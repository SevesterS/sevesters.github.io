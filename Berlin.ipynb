{
 "cells": [
  {
   "cell_type": "code",
   "execution_count": 1,
   "metadata": {},
   "outputs": [],
   "source": [
    "import pandas as pd\n",
    "import numpy as np\n",
    "from sklearn.metrics import mean_squared_error, r2_score\n",
    "import matplotlib.pyplot as plt\n",
    "plt.style.use('seaborn')\n",
    "import seaborn as sns\n",
    "import lightgbm as lgb\n",
    "import re\n",
    "import xgboost as xgb\n",
    "\n",
    "\n",
    "SEED = 42"
   ]
  },
  {
   "cell_type": "code",
   "execution_count": 2,
   "metadata": {},
   "outputs": [],
   "source": [
    "df_listing = pd.read_csv(\"C:/Users/Sevester Retseves/Desktop/SEVESTER/Data Analytics/Python/Capstone/Berlin/listings_summary.csv\")\n"
   ]
  },
  {
   "cell_type": "code",
   "execution_count": 3,
   "metadata": {},
   "outputs": [
    {
     "name": "stdout",
     "output_type": "stream",
     "text": [
      "The dataset has 22552 rows and 96 columns.\n",
      "It contains 0 duplicates.\n"
     ]
    }
   ],
   "source": [
    "#rows and columns\n",
    "print(\"The dataset has {} rows and {} columns.\".format(*df_listing.shape))\n",
    "#duplicate\n",
    "print(\"It contains {} duplicates.\".format(df_listing.duplicated().sum()))\n"
   ]
  },
  {
   "cell_type": "code",
   "execution_count": 4,
   "metadata": {
    "scrolled": true
   },
   "outputs": [
    {
     "name": "stdout",
     "output_type": "stream",
     "text": [
      "<class 'pandas.core.frame.DataFrame'>\n",
      "RangeIndex: 22552 entries, 0 to 22551\n",
      "Data columns (total 96 columns):\n",
      " #   Column                            Non-Null Count  Dtype  \n",
      "---  ------                            --------------  -----  \n",
      " 0   id                                22552 non-null  int64  \n",
      " 1   listing_url                       22552 non-null  object \n",
      " 2   scrape_id                         22552 non-null  int64  \n",
      " 3   last_scraped                      22552 non-null  object \n",
      " 4   name                              22493 non-null  object \n",
      " 5   summary                           21589 non-null  object \n",
      " 6   space                             14020 non-null  object \n",
      " 7   description                       22349 non-null  object \n",
      " 8   experiences_offered               22552 non-null  object \n",
      " 9   neighborhood_overview             11540 non-null  object \n",
      " 10  notes                             7215 non-null   object \n",
      " 11  transit                           13036 non-null  object \n",
      " 12  access                            10837 non-null  object \n",
      " 13  interaction                       10406 non-null  object \n",
      " 14  house_rules                       11449 non-null  object \n",
      " 15  thumbnail_url                     0 non-null      float64\n",
      " 16  medium_url                        0 non-null      float64\n",
      " 17  picture_url                       22552 non-null  object \n",
      " 18  xl_picture_url                    0 non-null      float64\n",
      " 19  host_id                           22552 non-null  int64  \n",
      " 20  host_url                          22552 non-null  object \n",
      " 21  host_name                         22526 non-null  object \n",
      " 22  host_since                        22526 non-null  object \n",
      " 23  host_location                     22436 non-null  object \n",
      " 24  host_about                        11189 non-null  object \n",
      " 25  host_response_time                9658 non-null   object \n",
      " 26  host_response_rate                9657 non-null   object \n",
      " 27  host_acceptance_rate              0 non-null      float64\n",
      " 28  host_is_superhost                 22526 non-null  object \n",
      " 29  host_thumbnail_url                22526 non-null  object \n",
      " 30  host_picture_url                  22526 non-null  object \n",
      " 31  host_neighbourhood                17458 non-null  object \n",
      " 32  host_listings_count               22526 non-null  float64\n",
      " 33  host_total_listings_count         22526 non-null  float64\n",
      " 34  host_verifications                22552 non-null  object \n",
      " 35  host_has_profile_pic              22526 non-null  object \n",
      " 36  host_identity_verified            22526 non-null  object \n",
      " 37  street                            22552 non-null  object \n",
      " 38  neighbourhood                     21421 non-null  object \n",
      " 39  neighbourhood_cleansed            22552 non-null  object \n",
      " 40  neighbourhood_group_cleansed      22552 non-null  object \n",
      " 41  city                              22547 non-null  object \n",
      " 42  state                             22468 non-null  object \n",
      " 43  zipcode                           21896 non-null  object \n",
      " 44  market                            22489 non-null  object \n",
      " 45  smart_location                    22552 non-null  object \n",
      " 46  country_code                      22552 non-null  object \n",
      " 47  country                           22552 non-null  object \n",
      " 48  latitude                          22552 non-null  float64\n",
      " 49  longitude                         22552 non-null  float64\n",
      " 50  is_location_exact                 22552 non-null  object \n",
      " 51  property_type                     22552 non-null  object \n",
      " 52  room_type                         22552 non-null  object \n",
      " 53  accommodates                      22552 non-null  int64  \n",
      " 54  bathrooms                         22520 non-null  float64\n",
      " 55  bedrooms                          22534 non-null  float64\n",
      " 56  beds                              22512 non-null  float64\n",
      " 57  bed_type                          22552 non-null  object \n",
      " 58  amenities                         22552 non-null  object \n",
      " 59  square_feet                       446 non-null    float64\n",
      " 60  price                             22552 non-null  object \n",
      " 61  weekly_price                      3681 non-null   object \n",
      " 62  monthly_price                     2659 non-null   object \n",
      " 63  security_deposit                  13191 non-null  object \n",
      " 64  cleaning_fee                      15406 non-null  object \n",
      " 65  guests_included                   22552 non-null  int64  \n",
      " 66  extra_people                      22552 non-null  object \n",
      " 67  minimum_nights                    22552 non-null  int64  \n",
      " 68  maximum_nights                    22552 non-null  int64  \n",
      " 69  calendar_updated                  22552 non-null  object \n",
      " 70  has_availability                  22552 non-null  object \n",
      " 71  availability_30                   22552 non-null  int64  \n",
      " 72  availability_60                   22552 non-null  int64  \n",
      " 73  availability_90                   22552 non-null  int64  \n",
      " 74  availability_365                  22552 non-null  int64  \n",
      " 75  calendar_last_scraped             22552 non-null  object \n",
      " 76  number_of_reviews                 22552 non-null  int64  \n",
      " 77  first_review                      18638 non-null  object \n",
      " 78  last_review                       18644 non-null  object \n",
      " 79  review_scores_rating              18163 non-null  float64\n",
      " 80  review_scores_accuracy            18138 non-null  float64\n",
      " 81  review_scores_cleanliness         18141 non-null  float64\n",
      " 82  review_scores_checkin             18120 non-null  float64\n",
      " 83  review_scores_communication       18134 non-null  float64\n",
      " 84  review_scores_location            18121 non-null  float64\n",
      " 85  review_scores_value               18117 non-null  float64\n",
      " 86  requires_license                  22552 non-null  object \n",
      " 87  license                           1638 non-null   object \n",
      " 88  jurisdiction_names                0 non-null      float64\n",
      " 89  instant_bookable                  22552 non-null  object \n",
      " 90  is_business_travel_ready          22552 non-null  object \n",
      " 91  cancellation_policy               22552 non-null  object \n",
      " 92  require_guest_profile_picture     22552 non-null  object \n",
      " 93  require_guest_phone_verification  22552 non-null  object \n",
      " 94  calculated_host_listings_count    22552 non-null  int64  \n",
      " 95  reviews_per_month                 18638 non-null  float64\n",
      "dtypes: float64(21), int64(13), object(62)\n",
      "memory usage: 16.5+ MB\n"
     ]
    }
   ],
   "source": [
    "df_listing.info()"
   ]
  },
  {
   "cell_type": "code",
   "execution_count": 5,
   "metadata": {
    "scrolled": true
   },
   "outputs": [
    {
     "data": {
      "text/html": [
       "<div>\n",
       "<style scoped>\n",
       "    .dataframe tbody tr th:only-of-type {\n",
       "        vertical-align: middle;\n",
       "    }\n",
       "\n",
       "    .dataframe tbody tr th {\n",
       "        vertical-align: top;\n",
       "    }\n",
       "\n",
       "    .dataframe thead th {\n",
       "        text-align: right;\n",
       "    }\n",
       "</style>\n",
       "<table border=\"1\" class=\"dataframe\">\n",
       "  <thead>\n",
       "    <tr style=\"text-align: right;\">\n",
       "      <th></th>\n",
       "      <th>id</th>\n",
       "      <th>listing_url</th>\n",
       "      <th>scrape_id</th>\n",
       "      <th>last_scraped</th>\n",
       "      <th>name</th>\n",
       "      <th>summary</th>\n",
       "      <th>space</th>\n",
       "      <th>description</th>\n",
       "      <th>experiences_offered</th>\n",
       "      <th>neighborhood_overview</th>\n",
       "      <th>...</th>\n",
       "      <th>requires_license</th>\n",
       "      <th>license</th>\n",
       "      <th>jurisdiction_names</th>\n",
       "      <th>instant_bookable</th>\n",
       "      <th>is_business_travel_ready</th>\n",
       "      <th>cancellation_policy</th>\n",
       "      <th>require_guest_profile_picture</th>\n",
       "      <th>require_guest_phone_verification</th>\n",
       "      <th>calculated_host_listings_count</th>\n",
       "      <th>reviews_per_month</th>\n",
       "    </tr>\n",
       "  </thead>\n",
       "  <tbody>\n",
       "    <tr>\n",
       "      <th>0</th>\n",
       "      <td>2015</td>\n",
       "      <td>https://www.airbnb.com/rooms/2015</td>\n",
       "      <td>20181107122246</td>\n",
       "      <td>2018-11-07</td>\n",
       "      <td>Berlin-Mitte Value! Quiet courtyard/very central</td>\n",
       "      <td>Great location!  30 of 75 sq meters. This wood...</td>\n",
       "      <td>A+++ location! This „Einliegerwohnung“ is an e...</td>\n",
       "      <td>Great location!  30 of 75 sq meters. This wood...</td>\n",
       "      <td>none</td>\n",
       "      <td>It is located in the former East Berlin area o...</td>\n",
       "      <td>...</td>\n",
       "      <td>t</td>\n",
       "      <td>NaN</td>\n",
       "      <td>NaN</td>\n",
       "      <td>f</td>\n",
       "      <td>f</td>\n",
       "      <td>strict_14_with_grace_period</td>\n",
       "      <td>f</td>\n",
       "      <td>f</td>\n",
       "      <td>4</td>\n",
       "      <td>3.76</td>\n",
       "    </tr>\n",
       "  </tbody>\n",
       "</table>\n",
       "<p>1 rows × 96 columns</p>\n",
       "</div>"
      ],
      "text/plain": [
       "     id                        listing_url       scrape_id last_scraped  \\\n",
       "0  2015  https://www.airbnb.com/rooms/2015  20181107122246   2018-11-07   \n",
       "\n",
       "                                               name  \\\n",
       "0  Berlin-Mitte Value! Quiet courtyard/very central   \n",
       "\n",
       "                                             summary  \\\n",
       "0  Great location!  30 of 75 sq meters. This wood...   \n",
       "\n",
       "                                               space  \\\n",
       "0  A+++ location! This „Einliegerwohnung“ is an e...   \n",
       "\n",
       "                                         description experiences_offered  \\\n",
       "0  Great location!  30 of 75 sq meters. This wood...                none   \n",
       "\n",
       "                               neighborhood_overview  ... requires_license  \\\n",
       "0  It is located in the former East Berlin area o...  ...                t   \n",
       "\n",
       "  license jurisdiction_names instant_bookable is_business_travel_ready  \\\n",
       "0     NaN                NaN                f                        f   \n",
       "\n",
       "           cancellation_policy  require_guest_profile_picture  \\\n",
       "0  strict_14_with_grace_period                              f   \n",
       "\n",
       "  require_guest_phone_verification  calculated_host_listings_count  \\\n",
       "0                                f                               4   \n",
       "\n",
       "   reviews_per_month  \n",
       "0               3.76  \n",
       "\n",
       "[1 rows x 96 columns]"
      ]
     },
     "execution_count": 5,
     "metadata": {},
     "output_type": "execute_result"
    }
   ],
   "source": [
    "df_listing.head(1)"
   ]
  },
  {
   "cell_type": "code",
   "execution_count": 6,
   "metadata": {
    "scrolled": true
   },
   "outputs": [
    {
     "data": {
      "text/plain": [
       "Index(['id', 'listing_url', 'scrape_id', 'last_scraped', 'name', 'summary',\n",
       "       'space', 'description', 'experiences_offered', 'neighborhood_overview',\n",
       "       'notes', 'transit', 'access', 'interaction', 'house_rules',\n",
       "       'thumbnail_url', 'medium_url', 'picture_url', 'xl_picture_url',\n",
       "       'host_id', 'host_url', 'host_name', 'host_since', 'host_location',\n",
       "       'host_about', 'host_response_time', 'host_response_rate',\n",
       "       'host_acceptance_rate', 'host_is_superhost', 'host_thumbnail_url',\n",
       "       'host_picture_url', 'host_neighbourhood', 'host_listings_count',\n",
       "       'host_total_listings_count', 'host_verifications',\n",
       "       'host_has_profile_pic', 'host_identity_verified', 'street',\n",
       "       'neighbourhood', 'neighbourhood_cleansed',\n",
       "       'neighbourhood_group_cleansed', 'city', 'state', 'zipcode', 'market',\n",
       "       'smart_location', 'country_code', 'country', 'latitude', 'longitude',\n",
       "       'is_location_exact', 'property_type', 'room_type', 'accommodates',\n",
       "       'bathrooms', 'bedrooms', 'beds', 'bed_type', 'amenities', 'square_feet',\n",
       "       'price', 'weekly_price', 'monthly_price', 'security_deposit',\n",
       "       'cleaning_fee', 'guests_included', 'extra_people', 'minimum_nights',\n",
       "       'maximum_nights', 'calendar_updated', 'has_availability',\n",
       "       'availability_30', 'availability_60', 'availability_90',\n",
       "       'availability_365', 'calendar_last_scraped', 'number_of_reviews',\n",
       "       'first_review', 'last_review', 'review_scores_rating',\n",
       "       'review_scores_accuracy', 'review_scores_cleanliness',\n",
       "       'review_scores_checkin', 'review_scores_communication',\n",
       "       'review_scores_location', 'review_scores_value', 'requires_license',\n",
       "       'license', 'jurisdiction_names', 'instant_bookable',\n",
       "       'is_business_travel_ready', 'cancellation_policy',\n",
       "       'require_guest_profile_picture', 'require_guest_phone_verification',\n",
       "       'calculated_host_listings_count', 'reviews_per_month'],\n",
       "      dtype='object')"
      ]
     },
     "execution_count": 6,
     "metadata": {},
     "output_type": "execute_result"
    }
   ],
   "source": [
    "df_listing.columns"
   ]
  },
  {
   "cell_type": "markdown",
   "metadata": {},
   "source": [
    "# Processing Data"
   ]
  },
  {
   "cell_type": "code",
   "execution_count": 7,
   "metadata": {},
   "outputs": [
    {
     "name": "stdout",
     "output_type": "stream",
     "text": [
      "The dataset has 22552 rows and 23 columns - after dropping irrelevant columns.\n"
     ]
    }
   ],
   "source": [
    "#Choosing which columns to keep\n",
    "columns_to_keep = ['id', 'space', 'description', 'host_has_profile_pic', 'neighbourhood_group_cleansed', \n",
    "                   'latitude', 'longitude', 'property_type', 'room_type', 'accommodates', 'bathrooms',  \n",
    "                   'bedrooms', 'bed_type', 'amenities', 'square_feet', 'price', 'cleaning_fee', \n",
    "                   'security_deposit', 'extra_people', 'guests_included', 'minimum_nights',  \n",
    "                   'instant_bookable', 'is_business_travel_ready', 'cancellation_policy']\n",
    "\n",
    "df_raw = df_listing[columns_to_keep].set_index('id')\n",
    "print(\"The dataset has {} rows and {} columns - after dropping irrelevant columns.\".format(*df_raw.shape))"
   ]
  },
  {
   "cell_type": "code",
   "execution_count": 8,
   "metadata": {},
   "outputs": [
    {
     "data": {
      "text/plain": [
       "Private room       0.511440\n",
       "Entire home/apt    0.475435\n",
       "Shared room        0.013125\n",
       "Name: room_type, dtype: float64"
      ]
     },
     "execution_count": 8,
     "metadata": {},
     "output_type": "execute_result"
    }
   ],
   "source": [
    "#how many room type\n",
    "df_raw.room_type.value_counts(normalize=True)"
   ]
  },
  {
   "cell_type": "code",
   "execution_count": 9,
   "metadata": {
    "scrolled": true
   },
   "outputs": [
    {
     "data": {
      "text/plain": [
       "Apartment                 0.896816\n",
       "Condominium               0.027137\n",
       "Loft                      0.020397\n",
       "House                     0.017648\n",
       "Serviced apartment        0.007760\n",
       "Hostel                    0.005676\n",
       "Townhouse                 0.004390\n",
       "Guest suite               0.003281\n",
       "Bed and breakfast         0.002838\n",
       "Guesthouse                0.002527\n",
       "Hotel                     0.002217\n",
       "Other                     0.002084\n",
       "Boutique hotel            0.001907\n",
       "Bungalow                  0.000887\n",
       "Boat                      0.000754\n",
       "Tiny house                0.000532\n",
       "Houseboat                 0.000488\n",
       "Camper/RV                 0.000488\n",
       "Villa                     0.000443\n",
       "Aparthotel                0.000310\n",
       "Pension (South Korea)     0.000310\n",
       "Cabin                     0.000266\n",
       "Cottage                   0.000177\n",
       "Resort                    0.000133\n",
       "Castle                    0.000089\n",
       "Casa particular (Cuba)    0.000089\n",
       "Train                     0.000089\n",
       "Barn                      0.000044\n",
       "In-law                    0.000044\n",
       "Chalet                    0.000044\n",
       "Island                    0.000044\n",
       "Cave                      0.000044\n",
       "Tipi                      0.000044\n",
       "Name: property_type, dtype: float64"
      ]
     },
     "execution_count": 9,
     "metadata": {},
     "output_type": "execute_result"
    }
   ],
   "source": [
    "#how many property type\n",
    "df_raw.property_type.value_counts(normalize=True)"
   ]
  },
  {
   "cell_type": "code",
   "execution_count": 10,
   "metadata": {
    "scrolled": true
   },
   "outputs": [
    {
     "data": {
      "text/plain": [
       "space                            8532\n",
       "description                       203\n",
       "host_has_profile_pic               26\n",
       "neighbourhood_group_cleansed        0\n",
       "latitude                            0\n",
       "longitude                           0\n",
       "property_type                       0\n",
       "room_type                           0\n",
       "accommodates                        0\n",
       "bathrooms                          32\n",
       "bedrooms                           18\n",
       "bed_type                            0\n",
       "amenities                           0\n",
       "square_feet                     22106\n",
       "price                               0\n",
       "cleaning_fee                     7146\n",
       "security_deposit                 9361\n",
       "extra_people                        0\n",
       "guests_included                     0\n",
       "minimum_nights                      0\n",
       "instant_bookable                    0\n",
       "is_business_travel_ready            0\n",
       "cancellation_policy                 0\n",
       "dtype: int64"
      ]
     },
     "execution_count": 10,
     "metadata": {},
     "output_type": "execute_result"
    }
   ],
   "source": [
    "#missing value\n",
    "df_raw.isna().sum()"
   ]
  },
  {
   "cell_type": "code",
   "execution_count": 11,
   "metadata": {},
   "outputs": [
    {
     "data": {
      "text/plain": [
       "0"
      ]
     },
     "execution_count": 11,
     "metadata": {},
     "output_type": "execute_result"
    }
   ],
   "source": [
    "#replace cleaning_fee's null value to $0.00\n",
    "df_raw.cleaning_fee.fillna('$0.00', inplace=True)\n",
    "df_raw.cleaning_fee.isna().sum()"
   ]
  },
  {
   "cell_type": "code",
   "execution_count": 12,
   "metadata": {},
   "outputs": [
    {
     "data": {
      "text/plain": [
       "0"
      ]
     },
     "execution_count": 12,
     "metadata": {},
     "output_type": "execute_result"
    }
   ],
   "source": [
    "#replcae security_deposit's null value to $0.00\n",
    "df_raw.security_deposit.fillna('$0.00', inplace=True)\n",
    "df_raw.security_deposit.isna().sum()"
   ]
  },
  {
   "cell_type": "code",
   "execution_count": 13,
   "metadata": {},
   "outputs": [],
   "source": [
    "#remove $ and change to float type\n",
    "df_raw.price = df_raw.price.str.replace('$', '').str.replace(',', '').astype(float)\n",
    "df_raw.cleaning_fee = df_raw.cleaning_fee.str.replace('$', '').str.replace(',', '').astype(float)\n",
    "df_raw.security_deposit = df_raw.security_deposit.str.replace('$', '').str.replace(',', '').astype(float)\n",
    "df_raw.extra_people = df_raw.extra_people.str.replace('$', '').str.replace(',', '').astype(float)"
   ]
  },
  {
   "cell_type": "code",
   "execution_count": 14,
   "metadata": {
    "scrolled": true
   },
   "outputs": [
    {
     "data": {
      "text/plain": [
       "count    22552.000000\n",
       "mean        67.143668\n",
       "std        220.266210\n",
       "min          0.000000\n",
       "25%         30.000000\n",
       "50%         45.000000\n",
       "75%         70.000000\n",
       "max       9000.000000\n",
       "Name: price, dtype: float64"
      ]
     },
     "execution_count": 14,
     "metadata": {},
     "output_type": "execute_result"
    }
   ],
   "source": [
    "df_raw['price'].describe()"
   ]
  },
  {
   "cell_type": "code",
   "execution_count": 15,
   "metadata": {
    "scrolled": false
   },
   "outputs": [
    {
     "data": {
      "image/png": "[encoded data removed]",
      "text/plain": [
       "<Figure size 576x396 with 1 Axes>"
      ]
     },
     "metadata": {},
     "output_type": "display_data"
    }
   ],
   "source": [
    "red_square = dict(markerfacecolor='r', marker='s')\n",
    "fig5, ax5 = plt.subplots()\n",
    "ax5.set_title('Horizontal Boxes')\n",
    "ax5.boxplot(df_raw['price'], vert=False, flierprops=red_square)\n",
    "ax5.set_title('AirBnB Room Prices')\n",
    "plt.show()"
   ]
  },
  {
   "cell_type": "code",
   "execution_count": 16,
   "metadata": {},
   "outputs": [
    {
     "data": {
      "text/plain": [
       "<seaborn.axisgrid.FacetGrid at 0x25f5479c9a0>"
      ]
     },
     "execution_count": 16,
     "metadata": {},
     "output_type": "execute_result"
    },
    {
     "data": {
      "image/png": "[encoded data removed]",
      "text/plain": [
       "<Figure size 360x360 with 1 Axes>"
      ]
     },
     "metadata": {},
     "output_type": "display_data"
    }
   ],
   "source": [
    "sns.displot(df_raw['price'])"
   ]
  },
  {
   "cell_type": "code",
   "execution_count": 17,
   "metadata": {},
   "outputs": [],
   "source": [
    "#delete price > $500 and price = $0\n",
    "df_raw.drop(df_raw[ (df_raw.price > 500) | (df_raw.price == 0) ].index, axis=0, inplace=True)"
   ]
  },
  {
   "cell_type": "code",
   "execution_count": 18,
   "metadata": {},
   "outputs": [
    {
     "data": {
      "text/plain": [
       "count    22470.000000\n",
       "mean        58.117980\n",
       "std         44.687913\n",
       "min          1.000000\n",
       "25%         30.000000\n",
       "50%         45.000000\n",
       "75%         70.000000\n",
       "max        500.000000\n",
       "Name: price, dtype: float64"
      ]
     },
     "execution_count": 18,
     "metadata": {},
     "output_type": "execute_result"
    }
   ],
   "source": [
    "df_raw['price'].describe()"
   ]
  },
  {
   "cell_type": "code",
   "execution_count": 19,
   "metadata": {},
   "outputs": [
    {
     "data": {
      "image/png": "[encoded data removed]",
      "text/plain": [
       "<Figure size 576x396 with 1 Axes>"
      ]
     },
     "metadata": {},
     "output_type": "display_data"
    }
   ],
   "source": [
    "red_square = dict(markerfacecolor='r', marker='s')\n",
    "fig5, ax5 = plt.subplots()\n",
    "ax5.set_title('Horizontal Boxes')\n",
    "ax5.boxplot(df_raw['price'], vert=False, flierprops=red_square)\n",
    "ax5.set_title('AirBnB Room Prices')\n",
    "plt.show()"
   ]
  },
  {
   "cell_type": "code",
   "execution_count": 20,
   "metadata": {},
   "outputs": [
    {
     "data": {
      "text/plain": [
       "<seaborn.axisgrid.FacetGrid at 0x25f55b92d00>"
      ]
     },
     "execution_count": 20,
     "metadata": {},
     "output_type": "execute_result"
    },
    {
     "data": {
      "image/png": "[encoded data removed]",
      "text/plain": [
       "<Figure size 360x360 with 1 Axes>"
      ]
     },
     "metadata": {},
     "output_type": "display_data"
    }
   ],
   "source": [
    "sns.displot(df_raw['price'])"
   ]
  },
  {
   "cell_type": "code",
   "execution_count": 21,
   "metadata": {},
   "outputs": [],
   "source": [
    "#delete columns with too many missing values\n",
    "df_raw.drop(columns = ['space', 'square_feet'], inplace= True)"
   ]
  },
  {
   "cell_type": "code",
   "execution_count": 22,
   "metadata": {},
   "outputs": [
    {
     "data": {
      "text/plain": [
       "description                     202\n",
       "host_has_profile_pic             25\n",
       "neighbourhood_group_cleansed      0\n",
       "latitude                          0\n",
       "longitude                         0\n",
       "property_type                     0\n",
       "room_type                         0\n",
       "accommodates                      0\n",
       "bathrooms                        32\n",
       "bedrooms                         18\n",
       "bed_type                          0\n",
       "amenities                         0\n",
       "price                             0\n",
       "cleaning_fee                      0\n",
       "security_deposit                  0\n",
       "extra_people                      0\n",
       "guests_included                   0\n",
       "minimum_nights                    0\n",
       "instant_bookable                  0\n",
       "is_business_travel_ready          0\n",
       "cancellation_policy               0\n",
       "dtype: int64"
      ]
     },
     "execution_count": 22,
     "metadata": {},
     "output_type": "execute_result"
    }
   ],
   "source": [
    "df_raw.isna().sum()"
   ]
  },
  {
   "cell_type": "code",
   "execution_count": 23,
   "metadata": {},
   "outputs": [],
   "source": [
    "#delete missing values in bathrooms&bedrooms\n",
    "df_raw.dropna(subset = ['bathrooms', 'bedrooms'], inplace = True)"
   ]
  },
  {
   "cell_type": "code",
   "execution_count": 24,
   "metadata": {},
   "outputs": [
    {
     "data": {
      "text/plain": [
       "description                     202\n",
       "host_has_profile_pic             25\n",
       "neighbourhood_group_cleansed      0\n",
       "latitude                          0\n",
       "longitude                         0\n",
       "property_type                     0\n",
       "room_type                         0\n",
       "accommodates                      0\n",
       "bathrooms                         0\n",
       "bedrooms                          0\n",
       "bed_type                          0\n",
       "amenities                         0\n",
       "price                             0\n",
       "cleaning_fee                      0\n",
       "security_deposit                  0\n",
       "extra_people                      0\n",
       "guests_included                   0\n",
       "minimum_nights                    0\n",
       "instant_bookable                  0\n",
       "is_business_travel_ready          0\n",
       "cancellation_policy               0\n",
       "dtype: int64"
      ]
     },
     "execution_count": 24,
     "metadata": {},
     "output_type": "execute_result"
    }
   ],
   "source": [
    "df_raw.isna().sum()"
   ]
  },
  {
   "cell_type": "code",
   "execution_count": 25,
   "metadata": {},
   "outputs": [
    {
     "data": {
      "text/plain": [
       "array(['t', 'f', nan], dtype=object)"
      ]
     },
     "execution_count": 25,
     "metadata": {},
     "output_type": "execute_result"
    }
   ],
   "source": [
    "#checking what kind of data is in host_has_profile_pic\n",
    "df_raw.host_has_profile_pic.unique()"
   ]
  },
  {
   "cell_type": "code",
   "execution_count": 26,
   "metadata": {},
   "outputs": [],
   "source": [
    "#replacing nan with f\n",
    "df_raw.host_has_profile_pic.fillna(value= 'f', inplace = True)"
   ]
  },
  {
   "cell_type": "code",
   "execution_count": 27,
   "metadata": {},
   "outputs": [
    {
     "data": {
      "text/plain": [
       "array(['t', 'f'], dtype=object)"
      ]
     },
     "execution_count": 27,
     "metadata": {},
     "output_type": "execute_result"
    }
   ],
   "source": [
    "df_raw.host_has_profile_pic.unique()"
   ]
  },
  {
   "cell_type": "code",
   "execution_count": 28,
   "metadata": {},
   "outputs": [
    {
     "data": {
      "text/plain": [
       "description                     202\n",
       "host_has_profile_pic              0\n",
       "neighbourhood_group_cleansed      0\n",
       "latitude                          0\n",
       "longitude                         0\n",
       "property_type                     0\n",
       "room_type                         0\n",
       "accommodates                      0\n",
       "bathrooms                         0\n",
       "bedrooms                          0\n",
       "bed_type                          0\n",
       "amenities                         0\n",
       "price                             0\n",
       "cleaning_fee                      0\n",
       "security_deposit                  0\n",
       "extra_people                      0\n",
       "guests_included                   0\n",
       "minimum_nights                    0\n",
       "instant_bookable                  0\n",
       "is_business_travel_ready          0\n",
       "cancellation_policy               0\n",
       "dtype: int64"
      ]
     },
     "execution_count": 28,
     "metadata": {},
     "output_type": "execute_result"
    }
   ],
   "source": [
    "df_raw.isna().sum()"
   ]
  },
  {
   "cell_type": "code",
   "execution_count": 29,
   "metadata": {},
   "outputs": [
    {
     "name": "stdout",
     "output_type": "stream",
     "text": [
      "The dataset has 22420 rows and 21 columns\n"
     ]
    }
   ],
   "source": [
    "#data after processed\n",
    "print(\"The dataset has {} rows and {} columns\".format(*df_raw.shape))"
   ]
  },
  {
   "cell_type": "markdown",
   "metadata": {},
   "source": [
    "# Feature Engineering"
   ]
  },
  {
   "cell_type": "code",
   "execution_count": 30,
   "metadata": {},
   "outputs": [],
   "source": [
    "from geopy.distance import great_circle"
   ]
  },
  {
   "cell_type": "code",
   "execution_count": 31,
   "metadata": {},
   "outputs": [],
   "source": [
    "def distance_to_mid(lat, lon):\n",
    "    berlin_centre = (52.5027778, 13.404166666666667)\n",
    "    airbnb = (lat, lon)\n",
    "    return great_circle(berlin_centre, airbnb).km"
   ]
  },
  {
   "cell_type": "code",
   "execution_count": 32,
   "metadata": {},
   "outputs": [],
   "source": [
    "df_raw['distance_in_km'] = df_raw.apply(lambda x: distance_to_mid(x.latitude, x.longitude), axis=1)"
   ]
  },
  {
   "cell_type": "code",
   "execution_count": 33,
   "metadata": {},
   "outputs": [
    {
     "data": {
      "text/html": [
       "<div>\n",
       "<style scoped>\n",
       "    .dataframe tbody tr th:only-of-type {\n",
       "        vertical-align: middle;\n",
       "    }\n",
       "\n",
       "    .dataframe tbody tr th {\n",
       "        vertical-align: top;\n",
       "    }\n",
       "\n",
       "    .dataframe thead th {\n",
       "        text-align: right;\n",
       "    }\n",
       "</style>\n",
       "<table border=\"1\" class=\"dataframe\">\n",
       "  <thead>\n",
       "    <tr style=\"text-align: right;\">\n",
       "      <th></th>\n",
       "      <th>description</th>\n",
       "      <th>host_has_profile_pic</th>\n",
       "      <th>neighbourhood_group_cleansed</th>\n",
       "      <th>latitude</th>\n",
       "      <th>longitude</th>\n",
       "      <th>property_type</th>\n",
       "      <th>room_type</th>\n",
       "      <th>accommodates</th>\n",
       "      <th>bathrooms</th>\n",
       "      <th>bedrooms</th>\n",
       "      <th>...</th>\n",
       "      <th>price</th>\n",
       "      <th>cleaning_fee</th>\n",
       "      <th>security_deposit</th>\n",
       "      <th>extra_people</th>\n",
       "      <th>guests_included</th>\n",
       "      <th>minimum_nights</th>\n",
       "      <th>instant_bookable</th>\n",
       "      <th>is_business_travel_ready</th>\n",
       "      <th>cancellation_policy</th>\n",
       "      <th>distance_in_km</th>\n",
       "    </tr>\n",
       "    <tr>\n",
       "      <th>id</th>\n",
       "      <th></th>\n",
       "      <th></th>\n",
       "      <th></th>\n",
       "      <th></th>\n",
       "      <th></th>\n",
       "      <th></th>\n",
       "      <th></th>\n",
       "      <th></th>\n",
       "      <th></th>\n",
       "      <th></th>\n",
       "      <th></th>\n",
       "      <th></th>\n",
       "      <th></th>\n",
       "      <th></th>\n",
       "      <th></th>\n",
       "      <th></th>\n",
       "      <th></th>\n",
       "      <th></th>\n",
       "      <th></th>\n",
       "      <th></th>\n",
       "      <th></th>\n",
       "    </tr>\n",
       "  </thead>\n",
       "  <tbody>\n",
       "    <tr>\n",
       "      <th>2015</th>\n",
       "      <td>Great location!  30 of 75 sq meters. This wood...</td>\n",
       "      <td>t</td>\n",
       "      <td>Mitte</td>\n",
       "      <td>52.534537</td>\n",
       "      <td>13.402557</td>\n",
       "      <td>Guesthouse</td>\n",
       "      <td>Entire home/apt</td>\n",
       "      <td>3</td>\n",
       "      <td>1.0</td>\n",
       "      <td>1.0</td>\n",
       "      <td>...</td>\n",
       "      <td>60.0</td>\n",
       "      <td>30.0</td>\n",
       "      <td>200.0</td>\n",
       "      <td>28.0</td>\n",
       "      <td>1</td>\n",
       "      <td>4</td>\n",
       "      <td>f</td>\n",
       "      <td>f</td>\n",
       "      <td>strict_14_with_grace_period</td>\n",
       "      <td>3.533182</td>\n",
       "    </tr>\n",
       "    <tr>\n",
       "      <th>2695</th>\n",
       "      <td>In the summertime we are spending most of our ...</td>\n",
       "      <td>t</td>\n",
       "      <td>Pankow</td>\n",
       "      <td>52.548513</td>\n",
       "      <td>13.404553</td>\n",
       "      <td>Apartment</td>\n",
       "      <td>Private room</td>\n",
       "      <td>2</td>\n",
       "      <td>1.0</td>\n",
       "      <td>1.0</td>\n",
       "      <td>...</td>\n",
       "      <td>17.0</td>\n",
       "      <td>0.0</td>\n",
       "      <td>0.0</td>\n",
       "      <td>0.0</td>\n",
       "      <td>1</td>\n",
       "      <td>2</td>\n",
       "      <td>f</td>\n",
       "      <td>f</td>\n",
       "      <td>flexible</td>\n",
       "      <td>5.085573</td>\n",
       "    </tr>\n",
       "    <tr>\n",
       "      <th>3176</th>\n",
       "      <td>This beautiful first floor apartment  is situa...</td>\n",
       "      <td>t</td>\n",
       "      <td>Pankow</td>\n",
       "      <td>52.534996</td>\n",
       "      <td>13.417579</td>\n",
       "      <td>Apartment</td>\n",
       "      <td>Entire home/apt</td>\n",
       "      <td>4</td>\n",
       "      <td>1.0</td>\n",
       "      <td>1.0</td>\n",
       "      <td>...</td>\n",
       "      <td>90.0</td>\n",
       "      <td>50.0</td>\n",
       "      <td>200.0</td>\n",
       "      <td>20.0</td>\n",
       "      <td>2</td>\n",
       "      <td>62</td>\n",
       "      <td>t</td>\n",
       "      <td>f</td>\n",
       "      <td>strict_14_with_grace_period</td>\n",
       "      <td>3.695677</td>\n",
       "    </tr>\n",
       "  </tbody>\n",
       "</table>\n",
       "<p>3 rows × 22 columns</p>\n",
       "</div>"
      ],
      "text/plain": [
       "                                            description host_has_profile_pic  \\\n",
       "id                                                                             \n",
       "2015  Great location!  30 of 75 sq meters. This wood...                    t   \n",
       "2695  In the summertime we are spending most of our ...                    t   \n",
       "3176  This beautiful first floor apartment  is situa...                    t   \n",
       "\n",
       "     neighbourhood_group_cleansed   latitude  longitude property_type  \\\n",
       "id                                                                      \n",
       "2015                        Mitte  52.534537  13.402557    Guesthouse   \n",
       "2695                       Pankow  52.548513  13.404553     Apartment   \n",
       "3176                       Pankow  52.534996  13.417579     Apartment   \n",
       "\n",
       "            room_type  accommodates  bathrooms  bedrooms  ... price  \\\n",
       "id                                                        ...         \n",
       "2015  Entire home/apt             3        1.0       1.0  ...  60.0   \n",
       "2695     Private room             2        1.0       1.0  ...  17.0   \n",
       "3176  Entire home/apt             4        1.0       1.0  ...  90.0   \n",
       "\n",
       "     cleaning_fee  security_deposit  extra_people  guests_included  \\\n",
       "id                                                                   \n",
       "2015         30.0             200.0          28.0                1   \n",
       "2695          0.0               0.0           0.0                1   \n",
       "3176         50.0             200.0          20.0                2   \n",
       "\n",
       "      minimum_nights  instant_bookable  is_business_travel_ready  \\\n",
       "id                                                                 \n",
       "2015               4                 f                         f   \n",
       "2695               2                 f                         f   \n",
       "3176              62                 t                         f   \n",
       "\n",
       "              cancellation_policy distance_in_km  \n",
       "id                                                \n",
       "2015  strict_14_with_grace_period       3.533182  \n",
       "2695                     flexible       5.085573  \n",
       "3176  strict_14_with_grace_period       3.695677  \n",
       "\n",
       "[3 rows x 22 columns]"
      ]
     },
     "execution_count": 33,
     "metadata": {},
     "output_type": "execute_result"
    }
   ],
   "source": [
    "df_raw.head(3)"
   ]
  },
  {
   "cell_type": "code",
   "execution_count": 34,
   "metadata": {},
   "outputs": [],
   "source": [
    "#extract numbers from description\n",
    "df_raw['size'] = df_raw['description'].str.extract('(\\d{2,3}\\s?[smSM])', expand=True)\n",
    "df_raw['size'] = df_raw['size'].str.replace(\"\\D\", \"\")\n",
    "\n",
    "#change datatype of size into float\n",
    "df_raw['size'] = df_raw['size'].astype(float)"
   ]
  },
  {
   "cell_type": "code",
   "execution_count": 35,
   "metadata": {},
   "outputs": [
    {
     "data": {
      "text/html": [
       "<div>\n",
       "<style scoped>\n",
       "    .dataframe tbody tr th:only-of-type {\n",
       "        vertical-align: middle;\n",
       "    }\n",
       "\n",
       "    .dataframe tbody tr th {\n",
       "        vertical-align: top;\n",
       "    }\n",
       "\n",
       "    .dataframe thead th {\n",
       "        text-align: right;\n",
       "    }\n",
       "</style>\n",
       "<table border=\"1\" class=\"dataframe\">\n",
       "  <thead>\n",
       "    <tr style=\"text-align: right;\">\n",
       "      <th></th>\n",
       "      <th>description</th>\n",
       "      <th>size</th>\n",
       "    </tr>\n",
       "    <tr>\n",
       "      <th>id</th>\n",
       "      <th></th>\n",
       "      <th></th>\n",
       "    </tr>\n",
       "  </thead>\n",
       "  <tbody>\n",
       "    <tr>\n",
       "      <th>2015</th>\n",
       "      <td>Great location!  30 of 75 sq meters. This wood...</td>\n",
       "      <td>75.0</td>\n",
       "    </tr>\n",
       "    <tr>\n",
       "      <th>2695</th>\n",
       "      <td>In the summertime we are spending most of our ...</td>\n",
       "      <td>25.0</td>\n",
       "    </tr>\n",
       "    <tr>\n",
       "      <th>3176</th>\n",
       "      <td>This beautiful first floor apartment  is situa...</td>\n",
       "      <td>68.0</td>\n",
       "    </tr>\n",
       "  </tbody>\n",
       "</table>\n",
       "</div>"
      ],
      "text/plain": [
       "                                            description  size\n",
       "id                                                           \n",
       "2015  Great location!  30 of 75 sq meters. This wood...  75.0\n",
       "2695  In the summertime we are spending most of our ...  25.0\n",
       "3176  This beautiful first floor apartment  is situa...  68.0"
      ]
     },
     "execution_count": 35,
     "metadata": {},
     "output_type": "execute_result"
    }
   ],
   "source": [
    "df_raw[['description', 'size']].head(3)"
   ]
  },
  {
   "cell_type": "code",
   "execution_count": 36,
   "metadata": {},
   "outputs": [
    {
     "data": {
      "text/plain": [
       "description                       202\n",
       "host_has_profile_pic                0\n",
       "neighbourhood_group_cleansed        0\n",
       "latitude                            0\n",
       "longitude                           0\n",
       "property_type                       0\n",
       "room_type                           0\n",
       "accommodates                        0\n",
       "bathrooms                           0\n",
       "bedrooms                            0\n",
       "bed_type                            0\n",
       "amenities                           0\n",
       "price                               0\n",
       "cleaning_fee                        0\n",
       "security_deposit                    0\n",
       "extra_people                        0\n",
       "guests_included                     0\n",
       "minimum_nights                      0\n",
       "instant_bookable                    0\n",
       "is_business_travel_ready            0\n",
       "cancellation_policy                 0\n",
       "distance_in_km                      0\n",
       "size                            11735\n",
       "dtype: int64"
      ]
     },
     "execution_count": 36,
     "metadata": {},
     "output_type": "execute_result"
    }
   ],
   "source": [
    "df_raw.isna().sum()"
   ]
  },
  {
   "cell_type": "code",
   "execution_count": 37,
   "metadata": {},
   "outputs": [
    {
     "name": "stdout",
     "output_type": "stream",
     "text": [
      "<class 'pandas.core.frame.DataFrame'>\n",
      "Int64Index: 22420 entries, 2015 to 29867352\n",
      "Data columns (total 23 columns):\n",
      " #   Column                        Non-Null Count  Dtype  \n",
      "---  ------                        --------------  -----  \n",
      " 0   description                   22218 non-null  object \n",
      " 1   host_has_profile_pic          22420 non-null  object \n",
      " 2   neighbourhood_group_cleansed  22420 non-null  object \n",
      " 3   latitude                      22420 non-null  float64\n",
      " 4   longitude                     22420 non-null  float64\n",
      " 5   property_type                 22420 non-null  object \n",
      " 6   room_type                     22420 non-null  object \n",
      " 7   accommodates                  22420 non-null  int64  \n",
      " 8   bathrooms                     22420 non-null  float64\n",
      " 9   bedrooms                      22420 non-null  float64\n",
      " 10  bed_type                      22420 non-null  object \n",
      " 11  amenities                     22420 non-null  object \n",
      " 12  price                         22420 non-null  float64\n",
      " 13  cleaning_fee                  22420 non-null  float64\n",
      " 14  security_deposit              22420 non-null  float64\n",
      " 15  extra_people                  22420 non-null  float64\n",
      " 16  guests_included               22420 non-null  int64  \n",
      " 17  minimum_nights                22420 non-null  int64  \n",
      " 18  instant_bookable              22420 non-null  object \n",
      " 19  is_business_travel_ready      22420 non-null  object \n",
      " 20  cancellation_policy           22420 non-null  object \n",
      " 21  distance_in_km                22420 non-null  float64\n",
      " 22  size                          10685 non-null  float64\n",
      "dtypes: float64(10), int64(3), object(10)\n",
      "memory usage: 4.1+ MB\n"
     ]
    }
   ],
   "source": [
    "df_raw.info()"
   ]
  },
  {
   "cell_type": "code",
   "execution_count": 38,
   "metadata": {},
   "outputs": [],
   "source": [
    "predict_df = df_raw[['accommodates', 'bathrooms', 'bedrooms', 'price', 'cleaning_fee', 'security_deposit', 'extra_people', 'guests_included', 'distance_in_km', 'size']] "
   ]
  },
  {
   "cell_type": "code",
   "execution_count": 39,
   "metadata": {},
   "outputs": [],
   "source": [
    "# split datasets\n",
    "train_data = predict_df[predict_df['size'].notnull()]\n",
    "test_data  = predict_df[predict_df['size'].isnull()]\n",
    "\n",
    "# define X\n",
    "X_train = train_data.drop('size', axis=1)\n",
    "X_test  = test_data.drop('size', axis=1)\n",
    "\n",
    "# define y\n",
    "y_train = train_data['size']"
   ]
  },
  {
   "cell_type": "code",
   "execution_count": 40,
   "metadata": {},
   "outputs": [
    {
     "name": "stdout",
     "output_type": "stream",
     "text": [
      "Shape of Training Data: (10685, 10)\n",
      "Shape of Test Data:     (11735, 10)\n",
      "\n",
      "Shape of X_train: (10685, 9)\n",
      "Shape of X_test: (11735, 9)\n",
      "\n",
      "Shape of y_train: (10685,)\n"
     ]
    }
   ],
   "source": [
    "print(\"Shape of Training Data:\", train_data.shape)\n",
    "print(\"Shape of Test Data:    \",test_data.shape)\n",
    "print(\"\\nShape of X_train:\", X_train.shape)\n",
    "print(\"Shape of X_test:\", X_test.shape)\n",
    "print(\"\\nShape of y_train:\", y_train.shape)"
   ]
  },
  {
   "cell_type": "code",
   "execution_count": 41,
   "metadata": {},
   "outputs": [
    {
     "data": {
      "text/plain": [
       "LinearRegression()"
      ]
     },
     "execution_count": 41,
     "metadata": {},
     "output_type": "execute_result"
    }
   ],
   "source": [
    "# import Linear Regression\n",
    "from sklearn.linear_model import LinearRegression\n",
    "\n",
    "# instantiate\n",
    "linreg = LinearRegression()\n",
    "\n",
    "# fit model to training data\n",
    "linreg.fit(X_train, y_train)"
   ]
  },
  {
   "cell_type": "code",
   "execution_count": 42,
   "metadata": {},
   "outputs": [],
   "source": [
    "# making predictions\n",
    "y_test = linreg.predict(X_test)"
   ]
  },
  {
   "cell_type": "code",
   "execution_count": 43,
   "metadata": {},
   "outputs": [
    {
     "name": "stdout",
     "output_type": "stream",
     "text": [
      "(11735, 1)\n"
     ]
    },
    {
     "data": {
      "text/html": [
       "<div>\n",
       "<style scoped>\n",
       "    .dataframe tbody tr th:only-of-type {\n",
       "        vertical-align: middle;\n",
       "    }\n",
       "\n",
       "    .dataframe tbody tr th {\n",
       "        vertical-align: top;\n",
       "    }\n",
       "\n",
       "    .dataframe thead th {\n",
       "        text-align: right;\n",
       "    }\n",
       "</style>\n",
       "<table border=\"1\" class=\"dataframe\">\n",
       "  <thead>\n",
       "    <tr style=\"text-align: right;\">\n",
       "      <th></th>\n",
       "      <th>size</th>\n",
       "    </tr>\n",
       "  </thead>\n",
       "  <tbody>\n",
       "    <tr>\n",
       "      <th>0</th>\n",
       "      <td>54.412079</td>\n",
       "    </tr>\n",
       "    <tr>\n",
       "      <th>1</th>\n",
       "      <td>96.454288</td>\n",
       "    </tr>\n",
       "    <tr>\n",
       "      <th>2</th>\n",
       "      <td>75.914694</td>\n",
       "    </tr>\n",
       "    <tr>\n",
       "      <th>3</th>\n",
       "      <td>88.957790</td>\n",
       "    </tr>\n",
       "    <tr>\n",
       "      <th>4</th>\n",
       "      <td>57.259094</td>\n",
       "    </tr>\n",
       "  </tbody>\n",
       "</table>\n",
       "</div>"
      ],
      "text/plain": [
       "        size\n",
       "0  54.412079\n",
       "1  96.454288\n",
       "2  75.914694\n",
       "3  88.957790\n",
       "4  57.259094"
      ]
     },
     "execution_count": 43,
     "metadata": {},
     "output_type": "execute_result"
    }
   ],
   "source": [
    "y_test = pd.DataFrame(y_test)\n",
    "y_test.columns = ['size']\n",
    "print(y_test.shape)\n",
    "y_test.head()"
   ]
  },
  {
   "cell_type": "code",
   "execution_count": 44,
   "metadata": {},
   "outputs": [
    {
     "name": "stdout",
     "output_type": "stream",
     "text": [
      "(11735, 9)\n"
     ]
    },
    {
     "data": {
      "text/html": [
       "<div>\n",
       "<style scoped>\n",
       "    .dataframe tbody tr th:only-of-type {\n",
       "        vertical-align: middle;\n",
       "    }\n",
       "\n",
       "    .dataframe tbody tr th {\n",
       "        vertical-align: top;\n",
       "    }\n",
       "\n",
       "    .dataframe thead th {\n",
       "        text-align: right;\n",
       "    }\n",
       "</style>\n",
       "<table border=\"1\" class=\"dataframe\">\n",
       "  <thead>\n",
       "    <tr style=\"text-align: right;\">\n",
       "      <th></th>\n",
       "      <th>accommodates</th>\n",
       "      <th>bathrooms</th>\n",
       "      <th>bedrooms</th>\n",
       "      <th>price</th>\n",
       "      <th>cleaning_fee</th>\n",
       "      <th>security_deposit</th>\n",
       "      <th>extra_people</th>\n",
       "      <th>guests_included</th>\n",
       "      <th>distance_in_km</th>\n",
       "    </tr>\n",
       "    <tr>\n",
       "      <th>id</th>\n",
       "      <th></th>\n",
       "      <th></th>\n",
       "      <th></th>\n",
       "      <th></th>\n",
       "      <th></th>\n",
       "      <th></th>\n",
       "      <th></th>\n",
       "      <th></th>\n",
       "      <th></th>\n",
       "    </tr>\n",
       "  </thead>\n",
       "  <tbody>\n",
       "    <tr>\n",
       "      <th>14325</th>\n",
       "      <td>2</td>\n",
       "      <td>1.0</td>\n",
       "      <td>0.0</td>\n",
       "      <td>70.0</td>\n",
       "      <td>0.0</td>\n",
       "      <td>500.0</td>\n",
       "      <td>0.0</td>\n",
       "      <td>1</td>\n",
       "      <td>5.012297</td>\n",
       "    </tr>\n",
       "    <tr>\n",
       "      <th>20858</th>\n",
       "      <td>4</td>\n",
       "      <td>1.0</td>\n",
       "      <td>2.0</td>\n",
       "      <td>129.0</td>\n",
       "      <td>49.0</td>\n",
       "      <td>500.0</td>\n",
       "      <td>24.0</td>\n",
       "      <td>2</td>\n",
       "      <td>3.807207</td>\n",
       "    </tr>\n",
       "    <tr>\n",
       "      <th>21869</th>\n",
       "      <td>4</td>\n",
       "      <td>1.0</td>\n",
       "      <td>1.0</td>\n",
       "      <td>70.0</td>\n",
       "      <td>40.0</td>\n",
       "      <td>500.0</td>\n",
       "      <td>18.0</td>\n",
       "      <td>2</td>\n",
       "      <td>2.061292</td>\n",
       "    </tr>\n",
       "    <tr>\n",
       "      <th>22415</th>\n",
       "      <td>4</td>\n",
       "      <td>1.0</td>\n",
       "      <td>2.0</td>\n",
       "      <td>98.0</td>\n",
       "      <td>50.0</td>\n",
       "      <td>300.0</td>\n",
       "      <td>25.0</td>\n",
       "      <td>2</td>\n",
       "      <td>1.868255</td>\n",
       "    </tr>\n",
       "    <tr>\n",
       "      <th>28156</th>\n",
       "      <td>2</td>\n",
       "      <td>1.0</td>\n",
       "      <td>0.0</td>\n",
       "      <td>70.0</td>\n",
       "      <td>0.0</td>\n",
       "      <td>1660.0</td>\n",
       "      <td>0.0</td>\n",
       "      <td>1</td>\n",
       "      <td>4.886509</td>\n",
       "    </tr>\n",
       "  </tbody>\n",
       "</table>\n",
       "</div>"
      ],
      "text/plain": [
       "       accommodates  bathrooms  bedrooms  price  cleaning_fee  \\\n",
       "id                                                              \n",
       "14325             2        1.0       0.0   70.0           0.0   \n",
       "20858             4        1.0       2.0  129.0          49.0   \n",
       "21869             4        1.0       1.0   70.0          40.0   \n",
       "22415             4        1.0       2.0   98.0          50.0   \n",
       "28156             2        1.0       0.0   70.0           0.0   \n",
       "\n",
       "       security_deposit  extra_people  guests_included  distance_in_km  \n",
       "id                                                                      \n",
       "14325             500.0           0.0                1        5.012297  \n",
       "20858             500.0          24.0                2        3.807207  \n",
       "21869             500.0          18.0                2        2.061292  \n",
       "22415             300.0          25.0                2        1.868255  \n",
       "28156            1660.0           0.0                1        4.886509  "
      ]
     },
     "execution_count": 44,
     "metadata": {},
     "output_type": "execute_result"
    }
   ],
   "source": [
    "print(X_test.shape)\n",
    "X_test.head()"
   ]
  },
  {
   "cell_type": "code",
   "execution_count": 45,
   "metadata": {},
   "outputs": [
    {
     "data": {
      "text/html": [
       "<div>\n",
       "<style scoped>\n",
       "    .dataframe tbody tr th:only-of-type {\n",
       "        vertical-align: middle;\n",
       "    }\n",
       "\n",
       "    .dataframe tbody tr th {\n",
       "        vertical-align: top;\n",
       "    }\n",
       "\n",
       "    .dataframe thead th {\n",
       "        text-align: right;\n",
       "    }\n",
       "</style>\n",
       "<table border=\"1\" class=\"dataframe\">\n",
       "  <thead>\n",
       "    <tr style=\"text-align: right;\">\n",
       "      <th></th>\n",
       "      <th>size</th>\n",
       "    </tr>\n",
       "    <tr>\n",
       "      <th>prelim</th>\n",
       "      <th></th>\n",
       "    </tr>\n",
       "  </thead>\n",
       "  <tbody>\n",
       "    <tr>\n",
       "      <th>14325</th>\n",
       "      <td>54.412079</td>\n",
       "    </tr>\n",
       "    <tr>\n",
       "      <th>20858</th>\n",
       "      <td>96.454288</td>\n",
       "    </tr>\n",
       "    <tr>\n",
       "      <th>21869</th>\n",
       "      <td>75.914694</td>\n",
       "    </tr>\n",
       "    <tr>\n",
       "      <th>22415</th>\n",
       "      <td>88.957790</td>\n",
       "    </tr>\n",
       "    <tr>\n",
       "      <th>28156</th>\n",
       "      <td>57.259094</td>\n",
       "    </tr>\n",
       "  </tbody>\n",
       "</table>\n",
       "</div>"
      ],
      "text/plain": [
       "             size\n",
       "prelim           \n",
       "14325   54.412079\n",
       "20858   96.454288\n",
       "21869   75.914694\n",
       "22415   88.957790\n",
       "28156   57.259094"
      ]
     },
     "execution_count": 45,
     "metadata": {},
     "output_type": "execute_result"
    }
   ],
   "source": [
    "# make the index of X_test to an own dataframe\n",
    "prelim_index = pd.DataFrame(X_test.index)\n",
    "prelim_index.columns = ['prelim']\n",
    "\n",
    "# ... and concat this dataframe with y_test\n",
    "y_test = pd.concat([y_test, prelim_index], axis=1)\n",
    "y_test.set_index(['prelim'], inplace=True)\n",
    "y_test.head()"
   ]
  },
  {
   "cell_type": "code",
   "execution_count": 46,
   "metadata": {},
   "outputs": [],
   "source": [
    "new_test_data = pd.concat([X_test, y_test], axis=1)"
   ]
  },
  {
   "cell_type": "code",
   "execution_count": 47,
   "metadata": {},
   "outputs": [
    {
     "name": "stdout",
     "output_type": "stream",
     "text": [
      "(11735, 10)\n"
     ]
    },
    {
     "data": {
      "text/html": [
       "<div>\n",
       "<style scoped>\n",
       "    .dataframe tbody tr th:only-of-type {\n",
       "        vertical-align: middle;\n",
       "    }\n",
       "\n",
       "    .dataframe tbody tr th {\n",
       "        vertical-align: top;\n",
       "    }\n",
       "\n",
       "    .dataframe thead th {\n",
       "        text-align: right;\n",
       "    }\n",
       "</style>\n",
       "<table border=\"1\" class=\"dataframe\">\n",
       "  <thead>\n",
       "    <tr style=\"text-align: right;\">\n",
       "      <th></th>\n",
       "      <th>accommodates</th>\n",
       "      <th>bathrooms</th>\n",
       "      <th>bedrooms</th>\n",
       "      <th>price</th>\n",
       "      <th>cleaning_fee</th>\n",
       "      <th>security_deposit</th>\n",
       "      <th>extra_people</th>\n",
       "      <th>guests_included</th>\n",
       "      <th>distance_in_km</th>\n",
       "      <th>size</th>\n",
       "    </tr>\n",
       "  </thead>\n",
       "  <tbody>\n",
       "    <tr>\n",
       "      <th>14325</th>\n",
       "      <td>2</td>\n",
       "      <td>1.0</td>\n",
       "      <td>0.0</td>\n",
       "      <td>70.0</td>\n",
       "      <td>0.0</td>\n",
       "      <td>500.0</td>\n",
       "      <td>0.0</td>\n",
       "      <td>1</td>\n",
       "      <td>5.012297</td>\n",
       "      <td>54.412079</td>\n",
       "    </tr>\n",
       "    <tr>\n",
       "      <th>20858</th>\n",
       "      <td>4</td>\n",
       "      <td>1.0</td>\n",
       "      <td>2.0</td>\n",
       "      <td>129.0</td>\n",
       "      <td>49.0</td>\n",
       "      <td>500.0</td>\n",
       "      <td>24.0</td>\n",
       "      <td>2</td>\n",
       "      <td>3.807207</td>\n",
       "      <td>96.454288</td>\n",
       "    </tr>\n",
       "    <tr>\n",
       "      <th>21869</th>\n",
       "      <td>4</td>\n",
       "      <td>1.0</td>\n",
       "      <td>1.0</td>\n",
       "      <td>70.0</td>\n",
       "      <td>40.0</td>\n",
       "      <td>500.0</td>\n",
       "      <td>18.0</td>\n",
       "      <td>2</td>\n",
       "      <td>2.061292</td>\n",
       "      <td>75.914694</td>\n",
       "    </tr>\n",
       "    <tr>\n",
       "      <th>22415</th>\n",
       "      <td>4</td>\n",
       "      <td>1.0</td>\n",
       "      <td>2.0</td>\n",
       "      <td>98.0</td>\n",
       "      <td>50.0</td>\n",
       "      <td>300.0</td>\n",
       "      <td>25.0</td>\n",
       "      <td>2</td>\n",
       "      <td>1.868255</td>\n",
       "      <td>88.957790</td>\n",
       "    </tr>\n",
       "    <tr>\n",
       "      <th>28156</th>\n",
       "      <td>2</td>\n",
       "      <td>1.0</td>\n",
       "      <td>0.0</td>\n",
       "      <td>70.0</td>\n",
       "      <td>0.0</td>\n",
       "      <td>1660.0</td>\n",
       "      <td>0.0</td>\n",
       "      <td>1</td>\n",
       "      <td>4.886509</td>\n",
       "      <td>57.259094</td>\n",
       "    </tr>\n",
       "  </tbody>\n",
       "</table>\n",
       "</div>"
      ],
      "text/plain": [
       "       accommodates  bathrooms  bedrooms  price  cleaning_fee  \\\n",
       "14325             2        1.0       0.0   70.0           0.0   \n",
       "20858             4        1.0       2.0  129.0          49.0   \n",
       "21869             4        1.0       1.0   70.0          40.0   \n",
       "22415             4        1.0       2.0   98.0          50.0   \n",
       "28156             2        1.0       0.0   70.0           0.0   \n",
       "\n",
       "       security_deposit  extra_people  guests_included  distance_in_km  \\\n",
       "14325             500.0           0.0                1        5.012297   \n",
       "20858             500.0          24.0                2        3.807207   \n",
       "21869             500.0          18.0                2        2.061292   \n",
       "22415             300.0          25.0                2        1.868255   \n",
       "28156            1660.0           0.0                1        4.886509   \n",
       "\n",
       "            size  \n",
       "14325  54.412079  \n",
       "20858  96.454288  \n",
       "21869  75.914694  \n",
       "22415  88.957790  \n",
       "28156  57.259094  "
      ]
     },
     "execution_count": 47,
     "metadata": {},
     "output_type": "execute_result"
    }
   ],
   "source": [
    "print(new_test_data.shape)\n",
    "new_test_data.head()"
   ]
  },
  {
   "cell_type": "code",
   "execution_count": 48,
   "metadata": {},
   "outputs": [
    {
     "data": {
      "text/plain": [
       "0"
      ]
     },
     "execution_count": 48,
     "metadata": {},
     "output_type": "execute_result"
    }
   ],
   "source": [
    "new_test_data['size'].isna().sum()"
   ]
  },
  {
   "cell_type": "code",
   "execution_count": 49,
   "metadata": {},
   "outputs": [
    {
     "name": "stdout",
     "output_type": "stream",
     "text": [
      "(22420, 10)\n"
     ]
    },
    {
     "data": {
      "text/html": [
       "<div>\n",
       "<style scoped>\n",
       "    .dataframe tbody tr th:only-of-type {\n",
       "        vertical-align: middle;\n",
       "    }\n",
       "\n",
       "    .dataframe tbody tr th {\n",
       "        vertical-align: top;\n",
       "    }\n",
       "\n",
       "    .dataframe thead th {\n",
       "        text-align: right;\n",
       "    }\n",
       "</style>\n",
       "<table border=\"1\" class=\"dataframe\">\n",
       "  <thead>\n",
       "    <tr style=\"text-align: right;\">\n",
       "      <th></th>\n",
       "      <th>accommodates</th>\n",
       "      <th>bathrooms</th>\n",
       "      <th>bedrooms</th>\n",
       "      <th>price</th>\n",
       "      <th>cleaning_fee</th>\n",
       "      <th>security_deposit</th>\n",
       "      <th>extra_people</th>\n",
       "      <th>guests_included</th>\n",
       "      <th>distance_in_km</th>\n",
       "      <th>size</th>\n",
       "    </tr>\n",
       "  </thead>\n",
       "  <tbody>\n",
       "    <tr>\n",
       "      <th>14325</th>\n",
       "      <td>2</td>\n",
       "      <td>1.0</td>\n",
       "      <td>0.0</td>\n",
       "      <td>70.0</td>\n",
       "      <td>0.0</td>\n",
       "      <td>500.0</td>\n",
       "      <td>0.0</td>\n",
       "      <td>1</td>\n",
       "      <td>5.012297</td>\n",
       "      <td>54.412079</td>\n",
       "    </tr>\n",
       "    <tr>\n",
       "      <th>20858</th>\n",
       "      <td>4</td>\n",
       "      <td>1.0</td>\n",
       "      <td>2.0</td>\n",
       "      <td>129.0</td>\n",
       "      <td>49.0</td>\n",
       "      <td>500.0</td>\n",
       "      <td>24.0</td>\n",
       "      <td>2</td>\n",
       "      <td>3.807207</td>\n",
       "      <td>96.454288</td>\n",
       "    </tr>\n",
       "    <tr>\n",
       "      <th>21869</th>\n",
       "      <td>4</td>\n",
       "      <td>1.0</td>\n",
       "      <td>1.0</td>\n",
       "      <td>70.0</td>\n",
       "      <td>40.0</td>\n",
       "      <td>500.0</td>\n",
       "      <td>18.0</td>\n",
       "      <td>2</td>\n",
       "      <td>2.061292</td>\n",
       "      <td>75.914694</td>\n",
       "    </tr>\n",
       "    <tr>\n",
       "      <th>22415</th>\n",
       "      <td>4</td>\n",
       "      <td>1.0</td>\n",
       "      <td>2.0</td>\n",
       "      <td>98.0</td>\n",
       "      <td>50.0</td>\n",
       "      <td>300.0</td>\n",
       "      <td>25.0</td>\n",
       "      <td>2</td>\n",
       "      <td>1.868255</td>\n",
       "      <td>88.957790</td>\n",
       "    </tr>\n",
       "    <tr>\n",
       "      <th>28156</th>\n",
       "      <td>2</td>\n",
       "      <td>1.0</td>\n",
       "      <td>0.0</td>\n",
       "      <td>70.0</td>\n",
       "      <td>0.0</td>\n",
       "      <td>1660.0</td>\n",
       "      <td>0.0</td>\n",
       "      <td>1</td>\n",
       "      <td>4.886509</td>\n",
       "      <td>57.259094</td>\n",
       "    </tr>\n",
       "  </tbody>\n",
       "</table>\n",
       "</div>"
      ],
      "text/plain": [
       "       accommodates  bathrooms  bedrooms  price  cleaning_fee  \\\n",
       "14325             2        1.0       0.0   70.0           0.0   \n",
       "20858             4        1.0       2.0  129.0          49.0   \n",
       "21869             4        1.0       1.0   70.0          40.0   \n",
       "22415             4        1.0       2.0   98.0          50.0   \n",
       "28156             2        1.0       0.0   70.0           0.0   \n",
       "\n",
       "       security_deposit  extra_people  guests_included  distance_in_km  \\\n",
       "14325             500.0           0.0                1        5.012297   \n",
       "20858             500.0          24.0                2        3.807207   \n",
       "21869             500.0          18.0                2        2.061292   \n",
       "22415             300.0          25.0                2        1.868255   \n",
       "28156            1660.0           0.0                1        4.886509   \n",
       "\n",
       "            size  \n",
       "14325  54.412079  \n",
       "20858  96.454288  \n",
       "21869  75.914694  \n",
       "22415  88.957790  \n",
       "28156  57.259094  "
      ]
     },
     "execution_count": 49,
     "metadata": {},
     "output_type": "execute_result"
    }
   ],
   "source": [
    "# combine train and test data back to a new predict df\n",
    "predict_df_new = pd.concat([new_test_data, train_data], axis=0)\n",
    "\n",
    "print(predict_df_new.shape)\n",
    "predict_df_new.head()"
   ]
  },
  {
   "cell_type": "code",
   "execution_count": 50,
   "metadata": {},
   "outputs": [
    {
     "data": {
      "text/plain": [
       "0"
      ]
     },
     "execution_count": 50,
     "metadata": {},
     "output_type": "execute_result"
    }
   ],
   "source": [
    "predict_df_new['size'].isna().sum()"
   ]
  },
  {
   "cell_type": "code",
   "execution_count": 51,
   "metadata": {},
   "outputs": [],
   "source": [
    "# prepare the multiple columns before concatening\n",
    "df_raw.drop(['accommodates', 'bathrooms', 'bedrooms', 'price', 'cleaning_fee', \n",
    "             'security_deposit', 'extra_people', 'guests_included', 'distance_in_km', 'size'], \n",
    "            axis=1, inplace=True)"
   ]
  },
  {
   "cell_type": "code",
   "execution_count": 52,
   "metadata": {},
   "outputs": [
    {
     "name": "stdout",
     "output_type": "stream",
     "text": [
      "(22420, 23)\n"
     ]
    },
    {
     "data": {
      "text/html": [
       "<div>\n",
       "<style scoped>\n",
       "    .dataframe tbody tr th:only-of-type {\n",
       "        vertical-align: middle;\n",
       "    }\n",
       "\n",
       "    .dataframe tbody tr th {\n",
       "        vertical-align: top;\n",
       "    }\n",
       "\n",
       "    .dataframe thead th {\n",
       "        text-align: right;\n",
       "    }\n",
       "</style>\n",
       "<table border=\"1\" class=\"dataframe\">\n",
       "  <thead>\n",
       "    <tr style=\"text-align: right;\">\n",
       "      <th></th>\n",
       "      <th>accommodates</th>\n",
       "      <th>bathrooms</th>\n",
       "      <th>bedrooms</th>\n",
       "      <th>price</th>\n",
       "      <th>cleaning_fee</th>\n",
       "      <th>security_deposit</th>\n",
       "      <th>extra_people</th>\n",
       "      <th>guests_included</th>\n",
       "      <th>distance_in_km</th>\n",
       "      <th>size</th>\n",
       "      <th>...</th>\n",
       "      <th>latitude</th>\n",
       "      <th>longitude</th>\n",
       "      <th>property_type</th>\n",
       "      <th>room_type</th>\n",
       "      <th>bed_type</th>\n",
       "      <th>amenities</th>\n",
       "      <th>minimum_nights</th>\n",
       "      <th>instant_bookable</th>\n",
       "      <th>is_business_travel_ready</th>\n",
       "      <th>cancellation_policy</th>\n",
       "    </tr>\n",
       "  </thead>\n",
       "  <tbody>\n",
       "    <tr>\n",
       "      <th>2015</th>\n",
       "      <td>3</td>\n",
       "      <td>1.0</td>\n",
       "      <td>1.0</td>\n",
       "      <td>60.0</td>\n",
       "      <td>30.0</td>\n",
       "      <td>200.0</td>\n",
       "      <td>28.0</td>\n",
       "      <td>1</td>\n",
       "      <td>3.533182</td>\n",
       "      <td>75.0</td>\n",
       "      <td>...</td>\n",
       "      <td>52.534537</td>\n",
       "      <td>13.402557</td>\n",
       "      <td>Guesthouse</td>\n",
       "      <td>Entire home/apt</td>\n",
       "      <td>Real Bed</td>\n",
       "      <td>{TV,\"Cable TV\",Wifi,Kitchen,Gym,Heating,\"Famil...</td>\n",
       "      <td>4</td>\n",
       "      <td>f</td>\n",
       "      <td>f</td>\n",
       "      <td>strict_14_with_grace_period</td>\n",
       "    </tr>\n",
       "    <tr>\n",
       "      <th>2695</th>\n",
       "      <td>2</td>\n",
       "      <td>1.0</td>\n",
       "      <td>1.0</td>\n",
       "      <td>17.0</td>\n",
       "      <td>0.0</td>\n",
       "      <td>0.0</td>\n",
       "      <td>0.0</td>\n",
       "      <td>1</td>\n",
       "      <td>5.085573</td>\n",
       "      <td>25.0</td>\n",
       "      <td>...</td>\n",
       "      <td>52.548513</td>\n",
       "      <td>13.404553</td>\n",
       "      <td>Apartment</td>\n",
       "      <td>Private room</td>\n",
       "      <td>Real Bed</td>\n",
       "      <td>{Wifi,Kitchen,Elevator,Heating,Washer,Essentia...</td>\n",
       "      <td>2</td>\n",
       "      <td>f</td>\n",
       "      <td>f</td>\n",
       "      <td>flexible</td>\n",
       "    </tr>\n",
       "  </tbody>\n",
       "</table>\n",
       "<p>2 rows × 23 columns</p>\n",
       "</div>"
      ],
      "text/plain": [
       "      accommodates  bathrooms  bedrooms  price  cleaning_fee  \\\n",
       "2015             3        1.0       1.0   60.0          30.0   \n",
       "2695             2        1.0       1.0   17.0           0.0   \n",
       "\n",
       "      security_deposit  extra_people  guests_included  distance_in_km  size  \\\n",
       "2015             200.0          28.0                1        3.533182  75.0   \n",
       "2695               0.0           0.0                1        5.085573  25.0   \n",
       "\n",
       "      ...   latitude  longitude property_type        room_type  bed_type  \\\n",
       "2015  ...  52.534537  13.402557    Guesthouse  Entire home/apt  Real Bed   \n",
       "2695  ...  52.548513  13.404553     Apartment     Private room  Real Bed   \n",
       "\n",
       "                                              amenities minimum_nights  \\\n",
       "2015  {TV,\"Cable TV\",Wifi,Kitchen,Gym,Heating,\"Famil...              4   \n",
       "2695  {Wifi,Kitchen,Elevator,Heating,Washer,Essentia...              2   \n",
       "\n",
       "     instant_bookable is_business_travel_ready          cancellation_policy  \n",
       "2015                f                        f  strict_14_with_grace_period  \n",
       "2695                f                        f                     flexible  \n",
       "\n",
       "[2 rows x 23 columns]"
      ]
     },
     "execution_count": 52,
     "metadata": {},
     "output_type": "execute_result"
    }
   ],
   "source": [
    "# concate back to complete dataframe\n",
    "df = pd.concat([predict_df_new, df_raw], axis=1)\n",
    "\n",
    "print(df.shape)\n",
    "df.head(2)"
   ]
  },
  {
   "cell_type": "code",
   "execution_count": 53,
   "metadata": {},
   "outputs": [
    {
     "data": {
      "text/plain": [
       "0"
      ]
     },
     "execution_count": 53,
     "metadata": {},
     "output_type": "execute_result"
    }
   ],
   "source": [
    "df['size'].isna().sum()"
   ]
  },
  {
   "cell_type": "code",
   "execution_count": 54,
   "metadata": {},
   "outputs": [
    {
     "data": {
      "text/plain": [
       "count    22420.000000\n",
       "mean        60.391004\n",
       "std         81.066960\n",
       "min          0.000000\n",
       "25%         25.000000\n",
       "50%         49.737822\n",
       "75%         65.000000\n",
       "max        980.000000\n",
       "Name: size, dtype: float64"
      ]
     },
     "execution_count": 54,
     "metadata": {},
     "output_type": "execute_result"
    }
   ],
   "source": [
    "df['size'].describe()"
   ]
  },
  {
   "cell_type": "code",
   "execution_count": 55,
   "metadata": {},
   "outputs": [
    {
     "data": {
      "image/png": "[encoded data removed]",
      "text/plain": [
       "<Figure size 576x396 with 1 Axes>"
      ]
     },
     "metadata": {},
     "output_type": "display_data"
    }
   ],
   "source": [
    "red_square = dict(markerfacecolor='r', marker='s')\n",
    "fig1, ax1 = plt.subplots()\n",
    "ax1.set_title('Horizontal Boxes')\n",
    "ax1.boxplot(df['size'], vert=False, flierprops=red_square)\n",
    "ax1.set_title('AirBnB Room Size')\n",
    "plt.show()"
   ]
  },
  {
   "cell_type": "code",
   "execution_count": 56,
   "metadata": {},
   "outputs": [
    {
     "data": {
      "text/plain": [
       "<seaborn.axisgrid.FacetGrid at 0x25f56c48dc0>"
      ]
     },
     "execution_count": 56,
     "metadata": {},
     "output_type": "execute_result"
    },
    {
     "data": {
      "image/png": "[encoded data removed]",
      "text/plain": [
       "<Figure size 360x360 with 1 Axes>"
      ]
     },
     "metadata": {},
     "output_type": "display_data"
    }
   ],
   "source": [
    "sns.displot(df['size'])"
   ]
  },
  {
   "cell_type": "code",
   "execution_count": 57,
   "metadata": {},
   "outputs": [],
   "source": [
    "#delete size > $500 and size = $0\n",
    "df.drop(df[ (df['size'] > 500) | (df['size'] == 0) ].index, axis=0, inplace=True)"
   ]
  },
  {
   "cell_type": "code",
   "execution_count": 58,
   "metadata": {},
   "outputs": [
    {
     "data": {
      "text/plain": [
       "count    22139.000000\n",
       "mean        55.413131\n",
       "std         51.006910\n",
       "min          1.000000\n",
       "25%         25.000000\n",
       "50%         49.692103\n",
       "75%         64.924536\n",
       "max        500.000000\n",
       "Name: size, dtype: float64"
      ]
     },
     "execution_count": 58,
     "metadata": {},
     "output_type": "execute_result"
    }
   ],
   "source": [
    "df['size'].describe()"
   ]
  },
  {
   "cell_type": "code",
   "execution_count": 59,
   "metadata": {},
   "outputs": [],
   "source": [
    "from collections import Counter"
   ]
  },
  {
   "cell_type": "code",
   "execution_count": 60,
   "metadata": {},
   "outputs": [
    {
     "data": {
      "text/plain": [
       "[('Wifi', 21122),\n",
       " ('Kitchen', 20980),\n",
       " ('Heating', 20826),\n",
       " ('Essentials', 19972),\n",
       " ('Washer', 18208),\n",
       " ('Hair dryer', 14597),\n",
       " ('Laptop friendly workspace', 14216),\n",
       " ('Hangers', 13638),\n",
       " ('Iron', 10984),\n",
       " ('Shampoo', 10432),\n",
       " ('TV', 9883),\n",
       " ('Hot water', 9519),\n",
       " ('Family/kid friendly', 7988),\n",
       " ('Internet', 7761),\n",
       " ('Host greets you', 6537),\n",
       " ('Smoke detector', 6318),\n",
       " ('Buzzer/wireless intercom', 6002),\n",
       " ('Lock on bedroom door', 5188),\n",
       " ('Refrigerator', 5089),\n",
       " ('Free street parking', 5089),\n",
       " ('Dishes and silverware', 4964),\n",
       " ('Elevator', 4748),\n",
       " ('Cooking basics', 4726),\n",
       " ('Stove', 4703),\n",
       " ('Bed linens', 4700),\n",
       " ('Smoking allowed', 4541),\n",
       " ('Oven', 4208),\n",
       " ('translation missing: en.hosting_amenity_50', 4125),\n",
       " ('First aid kit', 3915),\n",
       " ('Cable TV', 3615)]"
      ]
     },
     "execution_count": 60,
     "metadata": {},
     "output_type": "execute_result"
    }
   ],
   "source": [
    "results = Counter()\n",
    "df['amenities'].str.strip('{}')\\\n",
    "               .str.replace('\"', '')\\\n",
    "               .str.lstrip('\\\"')\\\n",
    "               .str.rstrip('\\\"')\\\n",
    "               .str.split(',')\\\n",
    "               .apply(results.update)\n",
    "\n",
    "results.most_common(30)"
   ]
  },
  {
   "cell_type": "code",
   "execution_count": 61,
   "metadata": {},
   "outputs": [],
   "source": [
    "amenities_df = pd.DataFrame(results.most_common(30), columns=['amenities', 'count'])"
   ]
  },
  {
   "cell_type": "code",
   "execution_count": 62,
   "metadata": {},
   "outputs": [
    {
     "data": {
      "image/png": "[encoded data removed]",
      "text/plain": [
       "<Figure size 576x396 with 1 Axes>"
      ]
     },
     "metadata": {},
     "output_type": "display_data"
    }
   ],
   "source": [
    "amenities_df.sort_values(by=['count'], ascending=True).plot(kind='barh', x='amenities', y='count',\n",
    "                                                            legend = False, color = 'blue', title = 'Amenities')\n",
    "plt.show()"
   ]
  },
  {
   "cell_type": "code",
   "execution_count": 63,
   "metadata": {},
   "outputs": [],
   "source": [
    "df['TV'] = df['amenities'].str.contains('TV')\n",
    "df['Wifi'] = df['amenities'].str.contains('Wifi')\n",
    "df['Smoking_allowed'] = df['amenities'].str.contains('Smoking allowed')"
   ]
  },
  {
   "cell_type": "code",
   "execution_count": 64,
   "metadata": {},
   "outputs": [],
   "source": [
    "df.drop(['amenities'], axis=1, inplace=True)"
   ]
  },
  {
   "cell_type": "markdown",
   "metadata": {},
   "source": [
    "# EDA"
   ]
  },
  {
   "cell_type": "code",
   "execution_count": 65,
   "metadata": {},
   "outputs": [
    {
     "data": {
      "image/png": "[encoded data removed]",
      "text/plain": [
       "<Figure size 720x504 with 2 Axes>"
      ]
     },
     "metadata": {},
     "output_type": "display_data"
    }
   ],
   "source": [
    "#Price difference on MAP\n",
    "\n",
    "df.plot(kind=\"scatter\", x=\"longitude\", y=\"latitude\", alpha=0.4, figsize=(10,7), \n",
    "        c=\"price\", cmap=\"gist_heat_r\", colorbar=True, sharex=False);"
   ]
  },
  {
   "cell_type": "code",
   "execution_count": 66,
   "metadata": {},
   "outputs": [
    {
     "data": {
      "image/png": "[encoded data removed]",
      "text/plain": [
       "<Figure size 576x396 with 1 Axes>"
      ]
     },
     "metadata": {},
     "output_type": "display_data"
    }
   ],
   "source": [
    "#No of Airbnb in each neighborhood\n",
    "df['neighbourhood_group_cleansed'].value_counts().sort_values().plot(kind='barh', color='blue')\n",
    "plt.title('Number of Airbnb in Neighborhood', fontweight='bold');"
   ]
  },
  {
   "cell_type": "code",
   "execution_count": 67,
   "metadata": {},
   "outputs": [
    {
     "data": {
      "image/png": "[encoded data removed]",
      "text/plain": [
       "<Figure size 576x396 with 1 Axes>"
      ]
     },
     "metadata": {},
     "output_type": "display_data"
    }
   ],
   "source": [
    "relation = df.plot.scatter('distance_in_km', 'price', title = 'Relation Between Price and distance')"
   ]
  },
  {
   "cell_type": "code",
   "execution_count": 68,
   "metadata": {},
   "outputs": [
    {
     "data": {
      "image/png": "[encoded data removed]",
      "text/plain": [
       "<Figure size 432x432 with 3 Axes>"
      ]
     },
     "metadata": {},
     "output_type": "display_data"
    }
   ],
   "source": [
    "sns.jointplot(x=df[\"distance_in_km\"], y=df[\"price\"], kind='hex')\n",
    "plt.title('\\nRelation between Distance & Median Price\\n', fontsize=14, fontweight='bold');"
   ]
  },
  {
   "cell_type": "code",
   "execution_count": 69,
   "metadata": {},
   "outputs": [
    {
     "data": {
      "image/png": "[encoded data removed]",
      "text/plain": [
       "<Figure size 864x504 with 1 Axes>"
      ]
     },
     "metadata": {},
     "output_type": "display_data"
    }
   ],
   "source": [
    "sns.set_style(\"white\")\n",
    "cmap = sns.cubehelix_palette(rot=-.2, as_cmap=True)\n",
    "\n",
    "fig, ax = plt.subplots(figsize=(12,7))\n",
    "ax = sns.scatterplot(x=\"size\", y=\"price\", size='cleaning_fee', sizes=(5, 200),\n",
    "                      hue='size', palette=cmap,  data=df)\n",
    "\n",
    "plt.title('\\nRelation between Size & Price\\n', fontsize=14, fontweight='bold')\n",
    "\n",
    "# putting legend out of the plot\n",
    "plt.legend(bbox_to_anchor=(1.05, 1), loc=2, borderaxespad=0.);"
   ]
  },
  {
   "cell_type": "code",
   "execution_count": 70,
   "metadata": {},
   "outputs": [
    {
     "data": {
      "image/png": "[encoded data removed]",
      "text/plain": [
       "<Figure size 432x432 with 2 Axes>"
      ]
     },
     "metadata": {},
     "output_type": "display_data"
    }
   ],
   "source": [
    "plt.figure(figsize=(6,6))\n",
    "sns.heatmap(df.groupby(['neighbourhood_group_cleansed', 'bedrooms']).price.median().unstack(), \n",
    "            cmap='Reds', annot=True, fmt=\".0f\")\n",
    "\n",
    "plt.xlabel('\\nBedrooms', fontsize=12)\n",
    "plt.ylabel('District\\n', fontsize=12)\n",
    "plt.title('\\nHeatmap: Prices by Neighbourhood and Number of Bedrooms\\n\\n', fontsize=14, fontweight='bold');"
   ]
  },
  {
   "cell_type": "code",
   "execution_count": 71,
   "metadata": {},
   "outputs": [
    {
     "data": {
      "image/png": "[encoded data removed]",
      "text/plain": [
       "<Figure size 648x360 with 1 Axes>"
      ]
     },
     "metadata": {},
     "output_type": "display_data"
    }
   ],
   "source": [
    "df_grouped = pd.DataFrame(df.groupby(['cancellation_policy'])['price'].agg(np.mean))\n",
    "df_grouped.reset_index(inplace=True)\n",
    "\n",
    "df_grouped.sort_values(by=['price'], ascending=True)\\\n",
    "          .plot(kind='barh', x='cancellation_policy', y='price', \n",
    "                figsize=(9,5), legend=False, color='darkblue')\n",
    "\n",
    "plt.xlabel('Price', fontsize=12)\n",
    "plt.ylabel('Cancellation Policy\\n', fontsize=12)\n",
    "plt.title('\\nAverage Prices by Cancellation Policy\\n', fontsize=14, fontweight='bold');"
   ]
  },
  {
   "cell_type": "code",
   "execution_count": 72,
   "metadata": {},
   "outputs": [
    {
     "data": {
      "text/plain": [
       "Index(['accommodates', 'bathrooms', 'bedrooms', 'price', 'cleaning_fee',\n",
       "       'security_deposit', 'extra_people', 'guests_included', 'distance_in_km',\n",
       "       'size', 'description', 'host_has_profile_pic',\n",
       "       'neighbourhood_group_cleansed', 'latitude', 'longitude',\n",
       "       'property_type', 'room_type', 'bed_type', 'minimum_nights',\n",
       "       'instant_bookable', 'is_business_travel_ready', 'cancellation_policy',\n",
       "       'TV', 'Wifi', 'Smoking_allowed'],\n",
       "      dtype='object')"
      ]
     },
     "execution_count": 72,
     "metadata": {},
     "output_type": "execute_result"
    }
   ],
   "source": [
    "df.columns"
   ]
  },
  {
   "cell_type": "code",
   "execution_count": 73,
   "metadata": {},
   "outputs": [
    {
     "name": "stdout",
     "output_type": "stream",
     "text": [
      "<class 'pandas.core.frame.DataFrame'>\n",
      "Int64Index: 22139 entries, 2015 to 29867352\n",
      "Data columns (total 25 columns):\n",
      " #   Column                        Non-Null Count  Dtype  \n",
      "---  ------                        --------------  -----  \n",
      " 0   accommodates                  22139 non-null  int64  \n",
      " 1   bathrooms                     22139 non-null  float64\n",
      " 2   bedrooms                      22139 non-null  float64\n",
      " 3   price                         22139 non-null  float64\n",
      " 4   cleaning_fee                  22139 non-null  float64\n",
      " 5   security_deposit              22139 non-null  float64\n",
      " 6   extra_people                  22139 non-null  float64\n",
      " 7   guests_included               22139 non-null  int64  \n",
      " 8   distance_in_km                22139 non-null  float64\n",
      " 9   size                          22139 non-null  float64\n",
      " 10  description                   21937 non-null  object \n",
      " 11  host_has_profile_pic          22139 non-null  object \n",
      " 12  neighbourhood_group_cleansed  22139 non-null  object \n",
      " 13  latitude                      22139 non-null  float64\n",
      " 14  longitude                     22139 non-null  float64\n",
      " 15  property_type                 22139 non-null  object \n",
      " 16  room_type                     22139 non-null  object \n",
      " 17  bed_type                      22139 non-null  object \n",
      " 18  minimum_nights                22139 non-null  int64  \n",
      " 19  instant_bookable              22139 non-null  object \n",
      " 20  is_business_travel_ready      22139 non-null  object \n",
      " 21  cancellation_policy           22139 non-null  object \n",
      " 22  TV                            22139 non-null  bool   \n",
      " 23  Wifi                          22139 non-null  bool   \n",
      " 24  Smoking_allowed               22139 non-null  bool   \n",
      "dtypes: bool(3), float64(10), int64(3), object(9)\n",
      "memory usage: 3.9+ MB\n"
     ]
    }
   ],
   "source": [
    "df.info()"
   ]
  },
  {
   "cell_type": "code",
   "execution_count": 74,
   "metadata": {},
   "outputs": [],
   "source": [
    "df.drop(['latitude', 'longitude', 'neighbourhood_group_cleansed', 'property_type', 'description'], axis=1, inplace=True)"
   ]
  },
  {
   "cell_type": "code",
   "execution_count": 75,
   "metadata": {},
   "outputs": [
    {
     "name": "stdout",
     "output_type": "stream",
     "text": [
      "<class 'pandas.core.frame.DataFrame'>\n",
      "Int64Index: 22139 entries, 2015 to 29867352\n",
      "Data columns (total 20 columns):\n",
      " #   Column                    Non-Null Count  Dtype  \n",
      "---  ------                    --------------  -----  \n",
      " 0   accommodates              22139 non-null  int64  \n",
      " 1   bathrooms                 22139 non-null  float64\n",
      " 2   bedrooms                  22139 non-null  float64\n",
      " 3   price                     22139 non-null  float64\n",
      " 4   cleaning_fee              22139 non-null  float64\n",
      " 5   security_deposit          22139 non-null  float64\n",
      " 6   extra_people              22139 non-null  float64\n",
      " 7   guests_included           22139 non-null  int64  \n",
      " 8   distance_in_km            22139 non-null  float64\n",
      " 9   size                      22139 non-null  float64\n",
      " 10  host_has_profile_pic      22139 non-null  object \n",
      " 11  room_type                 22139 non-null  object \n",
      " 12  bed_type                  22139 non-null  object \n",
      " 13  minimum_nights            22139 non-null  int64  \n",
      " 14  instant_bookable          22139 non-null  object \n",
      " 15  is_business_travel_ready  22139 non-null  object \n",
      " 16  cancellation_policy       22139 non-null  object \n",
      " 17  TV                        22139 non-null  bool   \n",
      " 18  Wifi                      22139 non-null  bool   \n",
      " 19  Smoking_allowed           22139 non-null  bool   \n",
      "dtypes: bool(3), float64(8), int64(3), object(6)\n",
      "memory usage: 3.1+ MB\n"
     ]
    }
   ],
   "source": [
    "df.info()"
   ]
  },
  {
   "cell_type": "markdown",
   "metadata": {},
   "source": [
    "# Regression"
   ]
  },
  {
   "cell_type": "code",
   "execution_count": 76,
   "metadata": {},
   "outputs": [],
   "source": [
    "# 1)\n",
    "\n",
    "X = df.drop(['price',\n",
    "             'host_has_profile_pic',\n",
    "             'room_type',\n",
    "             'bed_type',\n",
    "             'instant_bookable',\n",
    "             'is_business_travel_ready',\n",
    "             'cancellation_policy',\n",
    "             'TV',\n",
    "             'Wifi',\n",
    "             'Smoking_allowed'], axis=1) # input\n",
    "y = df['price'] # output (dependent variable)"
   ]
  },
  {
   "cell_type": "code",
   "execution_count": 77,
   "metadata": {},
   "outputs": [],
   "source": [
    "# 2) Splitting our data into training and testing sets\n",
    "from sklearn.model_selection import train_test_split\n",
    "\n",
    "X_train, X_test, y_train, y_test = train_test_split(X, y, test_size = 0.2, shuffle=False, random_state=SEED)"
   ]
  },
  {
   "cell_type": "code",
   "execution_count": 78,
   "metadata": {},
   "outputs": [],
   "source": [
    "# scale data\n",
    "from sklearn.preprocessing import StandardScaler\n",
    "sc = StandardScaler()\n",
    "X_train = sc.fit_transform(X_train)\n",
    "X_test  = sc.transform(X_test)"
   ]
  },
  {
   "cell_type": "code",
   "execution_count": 79,
   "metadata": {},
   "outputs": [
    {
     "data": {
      "text/plain": [
       "LinearRegression()"
      ]
     },
     "execution_count": 79,
     "metadata": {},
     "output_type": "execute_result"
    }
   ],
   "source": [
    "# Import the linear regression algorithm\n",
    "from sklearn.linear_model import LinearRegression\n",
    "\n",
    "regressor = LinearRegression()\n",
    "\n",
    "# Train the model\n",
    "regressor.fit(X_train, y_train)"
   ]
  },
  {
   "cell_type": "code",
   "execution_count": 80,
   "metadata": {},
   "outputs": [],
   "source": [
    "# Kept aside some data to test - X_test\n",
    "y_pred = regressor.predict(X_test)\n",
    "\n",
    "compare_df = pd.DataFrame({\"Desired Output (Actuals)\": y_test, \n",
    "                           \"Predicted Output\": y_pred})"
   ]
  },
  {
   "cell_type": "code",
   "execution_count": 81,
   "metadata": {},
   "outputs": [
    {
     "data": {
      "text/html": [
       "<div>\n",
       "<style scoped>\n",
       "    .dataframe tbody tr th:only-of-type {\n",
       "        vertical-align: middle;\n",
       "    }\n",
       "\n",
       "    .dataframe tbody tr th {\n",
       "        vertical-align: top;\n",
       "    }\n",
       "\n",
       "    .dataframe thead th {\n",
       "        text-align: right;\n",
       "    }\n",
       "</style>\n",
       "<table border=\"1\" class=\"dataframe\">\n",
       "  <thead>\n",
       "    <tr style=\"text-align: right;\">\n",
       "      <th></th>\n",
       "      <th>Desired Output (Actuals)</th>\n",
       "      <th>Predicted Output</th>\n",
       "    </tr>\n",
       "  </thead>\n",
       "  <tbody>\n",
       "    <tr>\n",
       "      <th>23747623</th>\n",
       "      <td>20.0</td>\n",
       "      <td>25.288911</td>\n",
       "    </tr>\n",
       "    <tr>\n",
       "      <th>23748559</th>\n",
       "      <td>30.0</td>\n",
       "      <td>46.938829</td>\n",
       "    </tr>\n",
       "    <tr>\n",
       "      <th>23749216</th>\n",
       "      <td>55.0</td>\n",
       "      <td>27.086355</td>\n",
       "    </tr>\n",
       "    <tr>\n",
       "      <th>23749409</th>\n",
       "      <td>30.0</td>\n",
       "      <td>43.906545</td>\n",
       "    </tr>\n",
       "    <tr>\n",
       "      <th>23750840</th>\n",
       "      <td>50.0</td>\n",
       "      <td>60.074274</td>\n",
       "    </tr>\n",
       "    <tr>\n",
       "      <th>...</th>\n",
       "      <td>...</td>\n",
       "      <td>...</td>\n",
       "    </tr>\n",
       "    <tr>\n",
       "      <th>29856708</th>\n",
       "      <td>60.0</td>\n",
       "      <td>41.327183</td>\n",
       "    </tr>\n",
       "    <tr>\n",
       "      <th>29857108</th>\n",
       "      <td>20.0</td>\n",
       "      <td>76.016594</td>\n",
       "    </tr>\n",
       "    <tr>\n",
       "      <th>29864272</th>\n",
       "      <td>85.0</td>\n",
       "      <td>32.355755</td>\n",
       "    </tr>\n",
       "    <tr>\n",
       "      <th>29866805</th>\n",
       "      <td>99.0</td>\n",
       "      <td>43.729930</td>\n",
       "    </tr>\n",
       "    <tr>\n",
       "      <th>29867352</th>\n",
       "      <td>45.0</td>\n",
       "      <td>40.804570</td>\n",
       "    </tr>\n",
       "  </tbody>\n",
       "</table>\n",
       "<p>4428 rows × 2 columns</p>\n",
       "</div>"
      ],
      "text/plain": [
       "          Desired Output (Actuals)  Predicted Output\n",
       "23747623                      20.0         25.288911\n",
       "23748559                      30.0         46.938829\n",
       "23749216                      55.0         27.086355\n",
       "23749409                      30.0         43.906545\n",
       "23750840                      50.0         60.074274\n",
       "...                            ...               ...\n",
       "29856708                      60.0         41.327183\n",
       "29857108                      20.0         76.016594\n",
       "29864272                      85.0         32.355755\n",
       "29866805                      99.0         43.729930\n",
       "29867352                      45.0         40.804570\n",
       "\n",
       "[4428 rows x 2 columns]"
      ]
     },
     "execution_count": 81,
     "metadata": {},
     "output_type": "execute_result"
    }
   ],
   "source": [
    "compare_df"
   ]
  },
  {
   "cell_type": "code",
   "execution_count": 82,
   "metadata": {},
   "outputs": [
    {
     "name": "stdout",
     "output_type": "stream",
     "text": [
      "Coefficients: \n",
      " [13.53791532  3.07493434  6.32252553  7.79885889  1.83117465 -0.42416653\n",
      "  5.07124663 -3.62918189  5.48296261  0.04768222]\n",
      "Mean squared error: 1698.28\n",
      "Coefficient of determination: 0.29\n"
     ]
    }
   ],
   "source": [
    "# The coefficients\n",
    "print('Coefficients: \\n', regressor.coef_)\n",
    "\n",
    "# The mean squared error\n",
    "print('Mean squared error: {:.2f}'.format(mean_squared_error(y_test, y_pred)))\n",
    "\n",
    "# The coefficient of determination: 1 is perfect prediction\n",
    "print('Coefficient of determination: {:.2f}'.format(r2_score(y_test, y_pred)))"
   ]
  },
  {
   "cell_type": "code",
   "execution_count": 83,
   "metadata": {},
   "outputs": [
    {
     "name": "stdout",
     "output_type": "stream",
     "text": [
      "Regression model's training score = 0.46\n",
      "Regression model's test score     = 0.29\n"
     ]
    }
   ],
   "source": [
    "# Evaluate the model's training score and test score\n",
    "print(\"Regression model's training score = {:.2f}\".format(regressor.score(X_train, y_train)))\n",
    "print(\"Regression model's test score     = {:.2f}\".format(regressor.score(X_test, y_test)))"
   ]
  },
  {
   "cell_type": "code",
   "execution_count": 84,
   "metadata": {},
   "outputs": [
    {
     "name": "stdout",
     "output_type": "stream",
     "text": [
      "My target value is   = 25.288911152484022\n",
      "My observed value is = 20.0\n"
     ]
    }
   ],
   "source": [
    "own_pred = regressor.predict(X_test)\n",
    "print(\"My target value is   =\", str(own_pred[0]))\n",
    "print(\"My observed value is =\", str(y_test.iloc[0]))"
   ]
  },
  {
   "cell_type": "code",
   "execution_count": 85,
   "metadata": {},
   "outputs": [
    {
     "name": "stdout",
     "output_type": "stream",
     "text": [
      "<class 'pandas.core.frame.DataFrame'>\n",
      "Int64Index: 22139 entries, 2015 to 29867352\n",
      "Data columns (total 20 columns):\n",
      " #   Column                    Non-Null Count  Dtype  \n",
      "---  ------                    --------------  -----  \n",
      " 0   accommodates              22139 non-null  int64  \n",
      " 1   bathrooms                 22139 non-null  float64\n",
      " 2   bedrooms                  22139 non-null  float64\n",
      " 3   price                     22139 non-null  float64\n",
      " 4   cleaning_fee              22139 non-null  float64\n",
      " 5   security_deposit          22139 non-null  float64\n",
      " 6   extra_people              22139 non-null  float64\n",
      " 7   guests_included           22139 non-null  int64  \n",
      " 8   distance_in_km            22139 non-null  float64\n",
      " 9   size                      22139 non-null  float64\n",
      " 10  host_has_profile_pic      22139 non-null  object \n",
      " 11  room_type                 22139 non-null  object \n",
      " 12  bed_type                  22139 non-null  object \n",
      " 13  minimum_nights            22139 non-null  int64  \n",
      " 14  instant_bookable          22139 non-null  object \n",
      " 15  is_business_travel_ready  22139 non-null  object \n",
      " 16  cancellation_policy       22139 non-null  object \n",
      " 17  TV                        22139 non-null  bool   \n",
      " 18  Wifi                      22139 non-null  bool   \n",
      " 19  Smoking_allowed           22139 non-null  bool   \n",
      "dtypes: bool(3), float64(8), int64(3), object(6)\n",
      "memory usage: 3.1+ MB\n"
     ]
    }
   ],
   "source": [
    "df.info()"
   ]
  },
  {
   "cell_type": "code",
   "execution_count": 86,
   "metadata": {},
   "outputs": [
    {
     "name": "stdout",
     "output_type": "stream",
     "text": [
      "Feature: 0, Score: 13.53792\n",
      "Feature: 1, Score: 3.07493\n",
      "Feature: 2, Score: 6.32253\n",
      "Feature: 3, Score: 7.79886\n",
      "Feature: 4, Score: 1.83117\n",
      "Feature: 5, Score: -0.42417\n",
      "Feature: 6, Score: 5.07125\n",
      "Feature: 7, Score: -3.62918\n",
      "Feature: 8, Score: 5.48296\n",
      "Feature: 9, Score: 0.04768\n"
     ]
    }
   ],
   "source": [
    "# get importance\n",
    "importance = regressor.coef_\n",
    "# summarize feature importance\n",
    "for i,v in enumerate(importance):\n",
    "    print('Feature: %0d, Score: %.5f' % (i,v))"
   ]
  },
  {
   "cell_type": "code",
   "execution_count": 87,
   "metadata": {},
   "outputs": [
    {
     "data": {
      "image/png": "[encoded data removed]",
      "text/plain": [
       "<Figure size 720x360 with 1 Axes>"
      ]
     },
     "metadata": {},
     "output_type": "display_data"
    }
   ],
   "source": [
    "# plot feature importance\n",
    "#plt.bar([x for x in range(len(importance))], importance)\n",
    "plt.figure(figsize=(10,5))\n",
    "plt.bar([x for x in X], importance)\n",
    "plt.xticks(rotation=90)\n",
    "plt.show()"
   ]
  },
  {
   "cell_type": "markdown",
   "metadata": {},
   "source": [
    "# Random Forest"
   ]
  },
  {
   "cell_type": "code",
   "execution_count": 88,
   "metadata": {},
   "outputs": [],
   "source": [
    "for col in ['host_has_profile_pic', 'room_type', 'bed_type', 'instant_bookable', \n",
    "            'is_business_travel_ready', 'cancellation_policy']:\n",
    "    df[col] = df[col].astype('category')"
   ]
  },
  {
   "cell_type": "code",
   "execution_count": 89,
   "metadata": {},
   "outputs": [],
   "source": [
    "# define our target\n",
    "target = df[[\"price\"]]\n",
    "\n",
    "# define our features \n",
    "features = df.drop([\"price\"], axis=1)"
   ]
  },
  {
   "cell_type": "code",
   "execution_count": 90,
   "metadata": {},
   "outputs": [],
   "source": [
    "#splitting, convert cat to numeric and combining.\n",
    "\n",
    "#numeric\n",
    "num_feats = features.select_dtypes(include=['float64', 'int64', 'bool']).copy()\n",
    "\n",
    "\n",
    "#categorical\n",
    "# one-hot encoding of categorical features\n",
    "cat_feats = features.select_dtypes(include=['category']).copy()\n",
    "cat_feats = pd.get_dummies(cat_feats)\n"
   ]
  },
  {
   "cell_type": "code",
   "execution_count": 91,
   "metadata": {},
   "outputs": [],
   "source": [
    "features_coded = pd.concat([num_feats, cat_feats], axis=1)"
   ]
  },
  {
   "cell_type": "code",
   "execution_count": 92,
   "metadata": {},
   "outputs": [
    {
     "name": "stdout",
     "output_type": "stream",
     "text": [
      "(22139, 31)\n"
     ]
    },
    {
     "data": {
      "text/html": [
       "<div>\n",
       "<style scoped>\n",
       "    .dataframe tbody tr th:only-of-type {\n",
       "        vertical-align: middle;\n",
       "    }\n",
       "\n",
       "    .dataframe tbody tr th {\n",
       "        vertical-align: top;\n",
       "    }\n",
       "\n",
       "    .dataframe thead th {\n",
       "        text-align: right;\n",
       "    }\n",
       "</style>\n",
       "<table border=\"1\" class=\"dataframe\">\n",
       "  <thead>\n",
       "    <tr style=\"text-align: right;\">\n",
       "      <th></th>\n",
       "      <th>accommodates</th>\n",
       "      <th>bathrooms</th>\n",
       "      <th>bedrooms</th>\n",
       "      <th>cleaning_fee</th>\n",
       "      <th>security_deposit</th>\n",
       "      <th>extra_people</th>\n",
       "      <th>guests_included</th>\n",
       "      <th>distance_in_km</th>\n",
       "      <th>size</th>\n",
       "      <th>minimum_nights</th>\n",
       "      <th>TV</th>\n",
       "      <th>Wifi</th>\n",
       "      <th>Smoking_allowed</th>\n",
       "      <th>host_has_profile_pic_f</th>\n",
       "      <th>host_has_profile_pic_t</th>\n",
       "      <th>room_type_Entire home/apt</th>\n",
       "      <th>room_type_Private room</th>\n",
       "      <th>room_type_Shared room</th>\n",
       "      <th>bed_type_Airbed</th>\n",
       "      <th>bed_type_Couch</th>\n",
       "      <th>bed_type_Futon</th>\n",
       "      <th>bed_type_Pull-out Sofa</th>\n",
       "      <th>bed_type_Real Bed</th>\n",
       "      <th>instant_bookable_f</th>\n",
       "      <th>instant_bookable_t</th>\n",
       "      <th>is_business_travel_ready_f</th>\n",
       "      <th>cancellation_policy_flexible</th>\n",
       "      <th>cancellation_policy_moderate</th>\n",
       "      <th>cancellation_policy_strict_14_with_grace_period</th>\n",
       "      <th>cancellation_policy_super_strict_30</th>\n",
       "      <th>cancellation_policy_super_strict_60</th>\n",
       "    </tr>\n",
       "  </thead>\n",
       "  <tbody>\n",
       "    <tr>\n",
       "      <th>2015</th>\n",
       "      <td>3</td>\n",
       "      <td>1.0</td>\n",
       "      <td>1.0</td>\n",
       "      <td>30.0</td>\n",
       "      <td>200.0</td>\n",
       "      <td>28.0</td>\n",
       "      <td>1</td>\n",
       "      <td>3.533182</td>\n",
       "      <td>75.0</td>\n",
       "      <td>4</td>\n",
       "      <td>True</td>\n",
       "      <td>True</td>\n",
       "      <td>False</td>\n",
       "      <td>0</td>\n",
       "      <td>1</td>\n",
       "      <td>1</td>\n",
       "      <td>0</td>\n",
       "      <td>0</td>\n",
       "      <td>0</td>\n",
       "      <td>0</td>\n",
       "      <td>0</td>\n",
       "      <td>0</td>\n",
       "      <td>1</td>\n",
       "      <td>1</td>\n",
       "      <td>0</td>\n",
       "      <td>1</td>\n",
       "      <td>0</td>\n",
       "      <td>0</td>\n",
       "      <td>1</td>\n",
       "      <td>0</td>\n",
       "      <td>0</td>\n",
       "    </tr>\n",
       "    <tr>\n",
       "      <th>2695</th>\n",
       "      <td>2</td>\n",
       "      <td>1.0</td>\n",
       "      <td>1.0</td>\n",
       "      <td>0.0</td>\n",
       "      <td>0.0</td>\n",
       "      <td>0.0</td>\n",
       "      <td>1</td>\n",
       "      <td>5.085573</td>\n",
       "      <td>25.0</td>\n",
       "      <td>2</td>\n",
       "      <td>False</td>\n",
       "      <td>True</td>\n",
       "      <td>False</td>\n",
       "      <td>0</td>\n",
       "      <td>1</td>\n",
       "      <td>0</td>\n",
       "      <td>1</td>\n",
       "      <td>0</td>\n",
       "      <td>0</td>\n",
       "      <td>0</td>\n",
       "      <td>0</td>\n",
       "      <td>0</td>\n",
       "      <td>1</td>\n",
       "      <td>1</td>\n",
       "      <td>0</td>\n",
       "      <td>1</td>\n",
       "      <td>1</td>\n",
       "      <td>0</td>\n",
       "      <td>0</td>\n",
       "      <td>0</td>\n",
       "      <td>0</td>\n",
       "    </tr>\n",
       "  </tbody>\n",
       "</table>\n",
       "</div>"
      ],
      "text/plain": [
       "      accommodates  bathrooms  bedrooms  cleaning_fee  security_deposit  \\\n",
       "2015             3        1.0       1.0          30.0             200.0   \n",
       "2695             2        1.0       1.0           0.0               0.0   \n",
       "\n",
       "      extra_people  guests_included  distance_in_km  size  minimum_nights  \\\n",
       "2015          28.0                1        3.533182  75.0               4   \n",
       "2695           0.0                1        5.085573  25.0               2   \n",
       "\n",
       "         TV  Wifi  Smoking_allowed  host_has_profile_pic_f  \\\n",
       "2015   True  True            False                       0   \n",
       "2695  False  True            False                       0   \n",
       "\n",
       "      host_has_profile_pic_t  room_type_Entire home/apt  \\\n",
       "2015                       1                          1   \n",
       "2695                       1                          0   \n",
       "\n",
       "      room_type_Private room  room_type_Shared room  bed_type_Airbed  \\\n",
       "2015                       0                      0                0   \n",
       "2695                       1                      0                0   \n",
       "\n",
       "      bed_type_Couch  bed_type_Futon  bed_type_Pull-out Sofa  \\\n",
       "2015               0               0                       0   \n",
       "2695               0               0                       0   \n",
       "\n",
       "      bed_type_Real Bed  instant_bookable_f  instant_bookable_t  \\\n",
       "2015                  1                   1                   0   \n",
       "2695                  1                   1                   0   \n",
       "\n",
       "      is_business_travel_ready_f  cancellation_policy_flexible  \\\n",
       "2015                           1                             0   \n",
       "2695                           1                             1   \n",
       "\n",
       "      cancellation_policy_moderate  \\\n",
       "2015                             0   \n",
       "2695                             0   \n",
       "\n",
       "      cancellation_policy_strict_14_with_grace_period  \\\n",
       "2015                                                1   \n",
       "2695                                                0   \n",
       "\n",
       "      cancellation_policy_super_strict_30  cancellation_policy_super_strict_60  \n",
       "2015                                    0                                    0  \n",
       "2695                                    0                                    0  "
      ]
     },
     "execution_count": 92,
     "metadata": {},
     "output_type": "execute_result"
    }
   ],
   "source": [
    "print(features_coded.shape)\n",
    "pd.set_option('display.max_columns', None)\n",
    "features_coded.head(2)"
   ]
  },
  {
   "cell_type": "code",
   "execution_count": 93,
   "metadata": {},
   "outputs": [
    {
     "name": "stdout",
     "output_type": "stream",
     "text": [
      "<class 'pandas.core.frame.DataFrame'>\n",
      "Int64Index: 22139 entries, 2015 to 29867352\n",
      "Data columns (total 31 columns):\n",
      " #   Column                                           Non-Null Count  Dtype  \n",
      "---  ------                                           --------------  -----  \n",
      " 0   accommodates                                     22139 non-null  int64  \n",
      " 1   bathrooms                                        22139 non-null  float64\n",
      " 2   bedrooms                                         22139 non-null  float64\n",
      " 3   cleaning_fee                                     22139 non-null  float64\n",
      " 4   security_deposit                                 22139 non-null  float64\n",
      " 5   extra_people                                     22139 non-null  float64\n",
      " 6   guests_included                                  22139 non-null  int64  \n",
      " 7   distance_in_km                                   22139 non-null  float64\n",
      " 8   size                                             22139 non-null  float64\n",
      " 9   minimum_nights                                   22139 non-null  int64  \n",
      " 10  TV                                               22139 non-null  bool   \n",
      " 11  Wifi                                             22139 non-null  bool   \n",
      " 12  Smoking_allowed                                  22139 non-null  bool   \n",
      " 13  host_has_profile_pic_f                           22139 non-null  uint8  \n",
      " 14  host_has_profile_pic_t                           22139 non-null  uint8  \n",
      " 15  room_type_Entire home/apt                        22139 non-null  uint8  \n",
      " 16  room_type_Private room                           22139 non-null  uint8  \n",
      " 17  room_type_Shared room                            22139 non-null  uint8  \n",
      " 18  bed_type_Airbed                                  22139 non-null  uint8  \n",
      " 19  bed_type_Couch                                   22139 non-null  uint8  \n",
      " 20  bed_type_Futon                                   22139 non-null  uint8  \n",
      " 21  bed_type_Pull-out Sofa                           22139 non-null  uint8  \n",
      " 22  bed_type_Real Bed                                22139 non-null  uint8  \n",
      " 23  instant_bookable_f                               22139 non-null  uint8  \n",
      " 24  instant_bookable_t                               22139 non-null  uint8  \n",
      " 25  is_business_travel_ready_f                       22139 non-null  uint8  \n",
      " 26  cancellation_policy_flexible                     22139 non-null  uint8  \n",
      " 27  cancellation_policy_moderate                     22139 non-null  uint8  \n",
      " 28  cancellation_policy_strict_14_with_grace_period  22139 non-null  uint8  \n",
      " 29  cancellation_policy_super_strict_30              22139 non-null  uint8  \n",
      " 30  cancellation_policy_super_strict_60              22139 non-null  uint8  \n",
      "dtypes: bool(3), float64(7), int64(3), uint8(18)\n",
      "memory usage: 2.3 MB\n"
     ]
    }
   ],
   "source": [
    "features_coded.info()"
   ]
  },
  {
   "cell_type": "code",
   "execution_count": 94,
   "metadata": {},
   "outputs": [],
   "source": [
    "X = features_coded # input\n",
    "y = target # output (dependent variable)"
   ]
  },
  {
   "cell_type": "code",
   "execution_count": 95,
   "metadata": {},
   "outputs": [],
   "source": [
    "from sklearn.model_selection import train_test_split\n",
    "\n",
    "X_train, X_test, y_train, y_test = train_test_split(X ,y, \n",
    "                                                    test_size = 0.2, \n",
    "                                                    shuffle=True, \n",
    "                                                    random_state=SEED)"
   ]
  },
  {
   "cell_type": "code",
   "execution_count": 96,
   "metadata": {},
   "outputs": [],
   "source": [
    "# scale data\n",
    "from sklearn.preprocessing import StandardScaler\n",
    "sc = StandardScaler()\n",
    "X_train = sc.fit_transform(X_train)\n",
    "X_test  = sc.transform(X_test)"
   ]
  },
  {
   "cell_type": "code",
   "execution_count": 97,
   "metadata": {},
   "outputs": [],
   "source": [
    "# create a baseline\n",
    "booster = xgb.XGBRegressor()"
   ]
  },
  {
   "cell_type": "code",
   "execution_count": 98,
   "metadata": {},
   "outputs": [
    {
     "name": "stdout",
     "output_type": "stream",
     "text": [
      "{'colsample_bytree': 0.6, 'gamma': 0.0, 'learning_rate': 0.1, 'max_depth': 7, 'n_estimators': 200}\n"
     ]
    }
   ],
   "source": [
    "from sklearn.model_selection import GridSearchCV\n",
    "\n",
    "# create Grid\n",
    "param_grid = {'n_estimators': [100, 150, 200],\n",
    "              'learning_rate': [0.01, 0.05, 0.1], \n",
    "              'max_depth': [3, 4, 5, 6, 7],\n",
    "              'colsample_bytree': [0.6, 0.7, 1],\n",
    "              'gamma': [0.0, 0.1, 0.2]}\n",
    "\n",
    "# instantiate the tuned random forest\n",
    "booster_grid_search = GridSearchCV(booster, param_grid, cv=3, n_jobs=-1)\n",
    "\n",
    "# train the tuned random forest\n",
    "booster_grid_search.fit(X_train, y_train)\n",
    "\n",
    "# print best estimator parameters found during the grid search\n",
    "print(booster_grid_search.best_params_)"
   ]
  },
  {
   "cell_type": "code",
   "execution_count": 99,
   "metadata": {},
   "outputs": [
    {
     "name": "stderr",
     "output_type": "stream",
     "text": [
      "C:\\Users\\Sevester Retseves\\anaconda3\\lib\\site-packages\\xgboost\\data.py:112: UserWarning: Use subset (sliced data) of np.ndarray is not recommended because it will generate extra copies and increase memory consumption\n",
      "  warnings.warn(\n"
     ]
    }
   ],
   "source": [
    "# instantiate xgboost with best parameters\n",
    "booster = xgb.XGBRegressor(colsample_bytree=0.7, gamma=0.2, learning_rate=0.1, \n",
    "                           max_depth=6, n_estimators=200, random_state=4)\n",
    "\n",
    "# train\n",
    "booster.fit(X_train, y_train)\n",
    "\n",
    "# predict\n",
    "y_pred_train = booster.predict(X_train)\n",
    "y_pred_test = booster.predict(X_test)"
   ]
  },
  {
   "cell_type": "code",
   "execution_count": 100,
   "metadata": {},
   "outputs": [
    {
     "name": "stdout",
     "output_type": "stream",
     "text": [
      "RMSE: 26.4273\n"
     ]
    }
   ],
   "source": [
    "RMSE = np.sqrt(mean_squared_error(y_test, y_pred_test))\n",
    "print(f\"RMSE: {round(RMSE, 4)}\")"
   ]
  },
  {
   "cell_type": "code",
   "execution_count": 101,
   "metadata": {},
   "outputs": [
    {
     "name": "stdout",
     "output_type": "stream",
     "text": [
      "r2: 0.6691\n"
     ]
    }
   ],
   "source": [
    "r2 = r2_score(y_test, y_pred_test)\n",
    "r2\n",
    "print(f\"r2: {round(r2, 4)}\")"
   ]
  },
  {
   "cell_type": "markdown",
   "metadata": {},
   "source": [
    "# K-Fold Cross Validation"
   ]
  },
  {
   "cell_type": "code",
   "execution_count": 102,
   "metadata": {},
   "outputs": [],
   "source": [
    "xg_train = xgb.DMatrix(data=X_train, label=y_train)"
   ]
  },
  {
   "cell_type": "code",
   "execution_count": 103,
   "metadata": {},
   "outputs": [],
   "source": [
    "params = {'colsample_bytree':0.6, 'gamma':0.2, 'learning_rate':0.05, 'max_depth':6}\n",
    "\n",
    "cv_results = xgb.cv(dtrain=xg_train, params=params, nfold=3,\n",
    "                    num_boost_round=200, early_stopping_rounds=10, \n",
    "                    metrics=\"rmse\", as_pandas=True)"
   ]
  },
  {
   "cell_type": "code",
   "execution_count": 104,
   "metadata": {},
   "outputs": [
    {
     "data": {
      "text/html": [
       "<div>\n",
       "<style scoped>\n",
       "    .dataframe tbody tr th:only-of-type {\n",
       "        vertical-align: middle;\n",
       "    }\n",
       "\n",
       "    .dataframe tbody tr th {\n",
       "        vertical-align: top;\n",
       "    }\n",
       "\n",
       "    .dataframe thead th {\n",
       "        text-align: right;\n",
       "    }\n",
       "</style>\n",
       "<table border=\"1\" class=\"dataframe\">\n",
       "  <thead>\n",
       "    <tr style=\"text-align: right;\">\n",
       "      <th></th>\n",
       "      <th>train-rmse-mean</th>\n",
       "      <th>train-rmse-std</th>\n",
       "      <th>test-rmse-mean</th>\n",
       "      <th>test-rmse-std</th>\n",
       "    </tr>\n",
       "  </thead>\n",
       "  <tbody>\n",
       "    <tr>\n",
       "      <th>0</th>\n",
       "      <td>69.274089</td>\n",
       "      <td>0.594044</td>\n",
       "      <td>69.329674</td>\n",
       "      <td>1.221218</td>\n",
       "    </tr>\n",
       "    <tr>\n",
       "      <th>1</th>\n",
       "      <td>66.478554</td>\n",
       "      <td>0.557571</td>\n",
       "      <td>66.602633</td>\n",
       "      <td>1.224647</td>\n",
       "    </tr>\n",
       "    <tr>\n",
       "      <th>2</th>\n",
       "      <td>63.868822</td>\n",
       "      <td>0.516301</td>\n",
       "      <td>64.065079</td>\n",
       "      <td>1.244883</td>\n",
       "    </tr>\n",
       "    <tr>\n",
       "      <th>3</th>\n",
       "      <td>61.338196</td>\n",
       "      <td>0.493155</td>\n",
       "      <td>61.601499</td>\n",
       "      <td>1.230489</td>\n",
       "    </tr>\n",
       "    <tr>\n",
       "      <th>4</th>\n",
       "      <td>59.017612</td>\n",
       "      <td>0.488449</td>\n",
       "      <td>59.336691</td>\n",
       "      <td>1.228252</td>\n",
       "    </tr>\n",
       "  </tbody>\n",
       "</table>\n",
       "</div>"
      ],
      "text/plain": [
       "   train-rmse-mean  train-rmse-std  test-rmse-mean  test-rmse-std\n",
       "0        69.274089        0.594044       69.329674       1.221218\n",
       "1        66.478554        0.557571       66.602633       1.224647\n",
       "2        63.868822        0.516301       64.065079       1.244883\n",
       "3        61.338196        0.493155       61.601499       1.230489\n",
       "4        59.017612        0.488449       59.336691       1.228252"
      ]
     },
     "execution_count": 104,
     "metadata": {},
     "output_type": "execute_result"
    }
   ],
   "source": [
    "cv_results.head()"
   ]
  },
  {
   "cell_type": "code",
   "execution_count": 105,
   "metadata": {},
   "outputs": [
    {
     "data": {
      "text/html": [
       "<div>\n",
       "<style scoped>\n",
       "    .dataframe tbody tr th:only-of-type {\n",
       "        vertical-align: middle;\n",
       "    }\n",
       "\n",
       "    .dataframe tbody tr th {\n",
       "        vertical-align: top;\n",
       "    }\n",
       "\n",
       "    .dataframe thead th {\n",
       "        text-align: right;\n",
       "    }\n",
       "</style>\n",
       "<table border=\"1\" class=\"dataframe\">\n",
       "  <thead>\n",
       "    <tr style=\"text-align: right;\">\n",
       "      <th></th>\n",
       "      <th>train-rmse-mean</th>\n",
       "      <th>train-rmse-std</th>\n",
       "      <th>test-rmse-mean</th>\n",
       "      <th>test-rmse-std</th>\n",
       "    </tr>\n",
       "  </thead>\n",
       "  <tbody>\n",
       "    <tr>\n",
       "      <th>195</th>\n",
       "      <td>18.309037</td>\n",
       "      <td>0.313115</td>\n",
       "      <td>26.351921</td>\n",
       "      <td>0.804948</td>\n",
       "    </tr>\n",
       "    <tr>\n",
       "      <th>196</th>\n",
       "      <td>18.290129</td>\n",
       "      <td>0.313411</td>\n",
       "      <td>26.348661</td>\n",
       "      <td>0.808763</td>\n",
       "    </tr>\n",
       "    <tr>\n",
       "      <th>197</th>\n",
       "      <td>18.267682</td>\n",
       "      <td>0.310879</td>\n",
       "      <td>26.343635</td>\n",
       "      <td>0.810443</td>\n",
       "    </tr>\n",
       "    <tr>\n",
       "      <th>198</th>\n",
       "      <td>18.256347</td>\n",
       "      <td>0.309944</td>\n",
       "      <td>26.341659</td>\n",
       "      <td>0.810109</td>\n",
       "    </tr>\n",
       "    <tr>\n",
       "      <th>199</th>\n",
       "      <td>18.237603</td>\n",
       "      <td>0.311393</td>\n",
       "      <td>26.336552</td>\n",
       "      <td>0.808793</td>\n",
       "    </tr>\n",
       "  </tbody>\n",
       "</table>\n",
       "</div>"
      ],
      "text/plain": [
       "     train-rmse-mean  train-rmse-std  test-rmse-mean  test-rmse-std\n",
       "195        18.309037        0.313115       26.351921       0.804948\n",
       "196        18.290129        0.313411       26.348661       0.808763\n",
       "197        18.267682        0.310879       26.343635       0.810443\n",
       "198        18.256347        0.309944       26.341659       0.810109\n",
       "199        18.237603        0.311393       26.336552       0.808793"
      ]
     },
     "execution_count": 105,
     "metadata": {},
     "output_type": "execute_result"
    }
   ],
   "source": [
    "cv_results.tail()"
   ]
  },
  {
   "cell_type": "code",
   "execution_count": 106,
   "metadata": {},
   "outputs": [
    {
     "data": {
      "image/png": "[encoded data removed]",
      "text/plain": [
       "<Figure size 720x360 with 1 Axes>"
      ]
     },
     "metadata": {},
     "output_type": "display_data"
    }
   ],
   "source": [
    "# plot the important features\n",
    "feat_importances = pd.Series(booster.feature_importances_, index=features_coded.columns)\n",
    "feat_importances.nlargest(15).sort_values().plot(kind='barh', color='darkgrey', figsize=(10,5))\n",
    "plt.xlabel('Feature Importance Score:')\n",
    "plt.title('Which Feature are more Importance when deciding the price:');"
   ]
  },
  {
   "cell_type": "markdown",
   "metadata": {},
   "source": [
    "# Random Forest -> lesser features"
   ]
  },
  {
   "cell_type": "code",
   "execution_count": 107,
   "metadata": {},
   "outputs": [],
   "source": [
    "X = features_coded # input\n",
    "y = target # output (dependent variable)"
   ]
  },
  {
   "cell_type": "code",
   "execution_count": 108,
   "metadata": {},
   "outputs": [
    {
     "data": {
      "text/html": [
       "<div>\n",
       "<style scoped>\n",
       "    .dataframe tbody tr th:only-of-type {\n",
       "        vertical-align: middle;\n",
       "    }\n",
       "\n",
       "    .dataframe tbody tr th {\n",
       "        vertical-align: top;\n",
       "    }\n",
       "\n",
       "    .dataframe thead th {\n",
       "        text-align: right;\n",
       "    }\n",
       "</style>\n",
       "<table border=\"1\" class=\"dataframe\">\n",
       "  <thead>\n",
       "    <tr style=\"text-align: right;\">\n",
       "      <th></th>\n",
       "      <th>accommodates</th>\n",
       "      <th>bathrooms</th>\n",
       "      <th>bedrooms</th>\n",
       "      <th>cleaning_fee</th>\n",
       "      <th>security_deposit</th>\n",
       "      <th>extra_people</th>\n",
       "      <th>guests_included</th>\n",
       "      <th>distance_in_km</th>\n",
       "      <th>size</th>\n",
       "      <th>minimum_nights</th>\n",
       "      <th>TV</th>\n",
       "      <th>Wifi</th>\n",
       "      <th>Smoking_allowed</th>\n",
       "      <th>host_has_profile_pic_f</th>\n",
       "      <th>host_has_profile_pic_t</th>\n",
       "      <th>room_type_Entire home/apt</th>\n",
       "      <th>room_type_Private room</th>\n",
       "      <th>room_type_Shared room</th>\n",
       "      <th>bed_type_Airbed</th>\n",
       "      <th>bed_type_Couch</th>\n",
       "      <th>bed_type_Futon</th>\n",
       "      <th>bed_type_Pull-out Sofa</th>\n",
       "      <th>bed_type_Real Bed</th>\n",
       "      <th>instant_bookable_f</th>\n",
       "      <th>instant_bookable_t</th>\n",
       "      <th>is_business_travel_ready_f</th>\n",
       "      <th>cancellation_policy_flexible</th>\n",
       "      <th>cancellation_policy_moderate</th>\n",
       "      <th>cancellation_policy_strict_14_with_grace_period</th>\n",
       "      <th>cancellation_policy_super_strict_30</th>\n",
       "      <th>cancellation_policy_super_strict_60</th>\n",
       "    </tr>\n",
       "  </thead>\n",
       "  <tbody>\n",
       "    <tr>\n",
       "      <th>2015</th>\n",
       "      <td>3</td>\n",
       "      <td>1.0</td>\n",
       "      <td>1.0</td>\n",
       "      <td>30.0</td>\n",
       "      <td>200.0</td>\n",
       "      <td>28.0</td>\n",
       "      <td>1</td>\n",
       "      <td>3.533182</td>\n",
       "      <td>75.000000</td>\n",
       "      <td>4</td>\n",
       "      <td>True</td>\n",
       "      <td>True</td>\n",
       "      <td>False</td>\n",
       "      <td>0</td>\n",
       "      <td>1</td>\n",
       "      <td>1</td>\n",
       "      <td>0</td>\n",
       "      <td>0</td>\n",
       "      <td>0</td>\n",
       "      <td>0</td>\n",
       "      <td>0</td>\n",
       "      <td>0</td>\n",
       "      <td>1</td>\n",
       "      <td>1</td>\n",
       "      <td>0</td>\n",
       "      <td>1</td>\n",
       "      <td>0</td>\n",
       "      <td>0</td>\n",
       "      <td>1</td>\n",
       "      <td>0</td>\n",
       "      <td>0</td>\n",
       "    </tr>\n",
       "    <tr>\n",
       "      <th>2695</th>\n",
       "      <td>2</td>\n",
       "      <td>1.0</td>\n",
       "      <td>1.0</td>\n",
       "      <td>0.0</td>\n",
       "      <td>0.0</td>\n",
       "      <td>0.0</td>\n",
       "      <td>1</td>\n",
       "      <td>5.085573</td>\n",
       "      <td>25.000000</td>\n",
       "      <td>2</td>\n",
       "      <td>False</td>\n",
       "      <td>True</td>\n",
       "      <td>False</td>\n",
       "      <td>0</td>\n",
       "      <td>1</td>\n",
       "      <td>0</td>\n",
       "      <td>1</td>\n",
       "      <td>0</td>\n",
       "      <td>0</td>\n",
       "      <td>0</td>\n",
       "      <td>0</td>\n",
       "      <td>0</td>\n",
       "      <td>1</td>\n",
       "      <td>1</td>\n",
       "      <td>0</td>\n",
       "      <td>1</td>\n",
       "      <td>1</td>\n",
       "      <td>0</td>\n",
       "      <td>0</td>\n",
       "      <td>0</td>\n",
       "      <td>0</td>\n",
       "    </tr>\n",
       "    <tr>\n",
       "      <th>3176</th>\n",
       "      <td>4</td>\n",
       "      <td>1.0</td>\n",
       "      <td>1.0</td>\n",
       "      <td>50.0</td>\n",
       "      <td>200.0</td>\n",
       "      <td>20.0</td>\n",
       "      <td>2</td>\n",
       "      <td>3.695677</td>\n",
       "      <td>68.000000</td>\n",
       "      <td>62</td>\n",
       "      <td>False</td>\n",
       "      <td>True</td>\n",
       "      <td>False</td>\n",
       "      <td>0</td>\n",
       "      <td>1</td>\n",
       "      <td>1</td>\n",
       "      <td>0</td>\n",
       "      <td>0</td>\n",
       "      <td>0</td>\n",
       "      <td>0</td>\n",
       "      <td>0</td>\n",
       "      <td>0</td>\n",
       "      <td>1</td>\n",
       "      <td>0</td>\n",
       "      <td>1</td>\n",
       "      <td>1</td>\n",
       "      <td>0</td>\n",
       "      <td>0</td>\n",
       "      <td>1</td>\n",
       "      <td>0</td>\n",
       "      <td>0</td>\n",
       "    </tr>\n",
       "    <tr>\n",
       "      <th>3309</th>\n",
       "      <td>2</td>\n",
       "      <td>1.0</td>\n",
       "      <td>1.0</td>\n",
       "      <td>30.0</td>\n",
       "      <td>250.0</td>\n",
       "      <td>18.0</td>\n",
       "      <td>1</td>\n",
       "      <td>3.755285</td>\n",
       "      <td>26.000000</td>\n",
       "      <td>5</td>\n",
       "      <td>False</td>\n",
       "      <td>True</td>\n",
       "      <td>False</td>\n",
       "      <td>0</td>\n",
       "      <td>1</td>\n",
       "      <td>0</td>\n",
       "      <td>1</td>\n",
       "      <td>0</td>\n",
       "      <td>0</td>\n",
       "      <td>0</td>\n",
       "      <td>0</td>\n",
       "      <td>1</td>\n",
       "      <td>0</td>\n",
       "      <td>1</td>\n",
       "      <td>0</td>\n",
       "      <td>1</td>\n",
       "      <td>0</td>\n",
       "      <td>0</td>\n",
       "      <td>1</td>\n",
       "      <td>0</td>\n",
       "      <td>0</td>\n",
       "    </tr>\n",
       "    <tr>\n",
       "      <th>7071</th>\n",
       "      <td>2</td>\n",
       "      <td>1.0</td>\n",
       "      <td>1.0</td>\n",
       "      <td>0.0</td>\n",
       "      <td>0.0</td>\n",
       "      <td>24.0</td>\n",
       "      <td>1</td>\n",
       "      <td>4.550423</td>\n",
       "      <td>20.000000</td>\n",
       "      <td>2</td>\n",
       "      <td>False</td>\n",
       "      <td>True</td>\n",
       "      <td>False</td>\n",
       "      <td>0</td>\n",
       "      <td>1</td>\n",
       "      <td>0</td>\n",
       "      <td>1</td>\n",
       "      <td>0</td>\n",
       "      <td>0</td>\n",
       "      <td>0</td>\n",
       "      <td>0</td>\n",
       "      <td>0</td>\n",
       "      <td>1</td>\n",
       "      <td>1</td>\n",
       "      <td>0</td>\n",
       "      <td>1</td>\n",
       "      <td>0</td>\n",
       "      <td>1</td>\n",
       "      <td>0</td>\n",
       "      <td>0</td>\n",
       "      <td>0</td>\n",
       "    </tr>\n",
       "    <tr>\n",
       "      <th>...</th>\n",
       "      <td>...</td>\n",
       "      <td>...</td>\n",
       "      <td>...</td>\n",
       "      <td>...</td>\n",
       "      <td>...</td>\n",
       "      <td>...</td>\n",
       "      <td>...</td>\n",
       "      <td>...</td>\n",
       "      <td>...</td>\n",
       "      <td>...</td>\n",
       "      <td>...</td>\n",
       "      <td>...</td>\n",
       "      <td>...</td>\n",
       "      <td>...</td>\n",
       "      <td>...</td>\n",
       "      <td>...</td>\n",
       "      <td>...</td>\n",
       "      <td>...</td>\n",
       "      <td>...</td>\n",
       "      <td>...</td>\n",
       "      <td>...</td>\n",
       "      <td>...</td>\n",
       "      <td>...</td>\n",
       "      <td>...</td>\n",
       "      <td>...</td>\n",
       "      <td>...</td>\n",
       "      <td>...</td>\n",
       "      <td>...</td>\n",
       "      <td>...</td>\n",
       "      <td>...</td>\n",
       "      <td>...</td>\n",
       "    </tr>\n",
       "    <tr>\n",
       "      <th>29856708</th>\n",
       "      <td>2</td>\n",
       "      <td>1.0</td>\n",
       "      <td>1.0</td>\n",
       "      <td>0.0</td>\n",
       "      <td>0.0</td>\n",
       "      <td>0.0</td>\n",
       "      <td>1</td>\n",
       "      <td>3.464543</td>\n",
       "      <td>51.868431</td>\n",
       "      <td>2</td>\n",
       "      <td>False</td>\n",
       "      <td>True</td>\n",
       "      <td>True</td>\n",
       "      <td>0</td>\n",
       "      <td>1</td>\n",
       "      <td>1</td>\n",
       "      <td>0</td>\n",
       "      <td>0</td>\n",
       "      <td>0</td>\n",
       "      <td>0</td>\n",
       "      <td>0</td>\n",
       "      <td>0</td>\n",
       "      <td>1</td>\n",
       "      <td>1</td>\n",
       "      <td>0</td>\n",
       "      <td>1</td>\n",
       "      <td>1</td>\n",
       "      <td>0</td>\n",
       "      <td>0</td>\n",
       "      <td>0</td>\n",
       "      <td>0</td>\n",
       "    </tr>\n",
       "    <tr>\n",
       "      <th>29857108</th>\n",
       "      <td>6</td>\n",
       "      <td>1.0</td>\n",
       "      <td>1.0</td>\n",
       "      <td>0.0</td>\n",
       "      <td>0.0</td>\n",
       "      <td>10.0</td>\n",
       "      <td>1</td>\n",
       "      <td>4.288544</td>\n",
       "      <td>54.000412</td>\n",
       "      <td>1</td>\n",
       "      <td>True</td>\n",
       "      <td>True</td>\n",
       "      <td>False</td>\n",
       "      <td>0</td>\n",
       "      <td>1</td>\n",
       "      <td>0</td>\n",
       "      <td>0</td>\n",
       "      <td>1</td>\n",
       "      <td>0</td>\n",
       "      <td>0</td>\n",
       "      <td>0</td>\n",
       "      <td>0</td>\n",
       "      <td>1</td>\n",
       "      <td>0</td>\n",
       "      <td>1</td>\n",
       "      <td>1</td>\n",
       "      <td>1</td>\n",
       "      <td>0</td>\n",
       "      <td>0</td>\n",
       "      <td>0</td>\n",
       "      <td>0</td>\n",
       "    </tr>\n",
       "    <tr>\n",
       "      <th>29864272</th>\n",
       "      <td>2</td>\n",
       "      <td>1.0</td>\n",
       "      <td>0.0</td>\n",
       "      <td>0.0</td>\n",
       "      <td>0.0</td>\n",
       "      <td>0.0</td>\n",
       "      <td>1</td>\n",
       "      <td>3.270333</td>\n",
       "      <td>58.298232</td>\n",
       "      <td>3</td>\n",
       "      <td>False</td>\n",
       "      <td>True</td>\n",
       "      <td>False</td>\n",
       "      <td>0</td>\n",
       "      <td>1</td>\n",
       "      <td>1</td>\n",
       "      <td>0</td>\n",
       "      <td>0</td>\n",
       "      <td>0</td>\n",
       "      <td>0</td>\n",
       "      <td>0</td>\n",
       "      <td>0</td>\n",
       "      <td>1</td>\n",
       "      <td>1</td>\n",
       "      <td>0</td>\n",
       "      <td>1</td>\n",
       "      <td>1</td>\n",
       "      <td>0</td>\n",
       "      <td>0</td>\n",
       "      <td>0</td>\n",
       "      <td>0</td>\n",
       "    </tr>\n",
       "    <tr>\n",
       "      <th>29866805</th>\n",
       "      <td>2</td>\n",
       "      <td>1.0</td>\n",
       "      <td>1.0</td>\n",
       "      <td>0.0</td>\n",
       "      <td>0.0</td>\n",
       "      <td>0.0</td>\n",
       "      <td>1</td>\n",
       "      <td>2.643811</td>\n",
       "      <td>63.179811</td>\n",
       "      <td>1</td>\n",
       "      <td>False</td>\n",
       "      <td>True</td>\n",
       "      <td>False</td>\n",
       "      <td>0</td>\n",
       "      <td>1</td>\n",
       "      <td>0</td>\n",
       "      <td>1</td>\n",
       "      <td>0</td>\n",
       "      <td>0</td>\n",
       "      <td>0</td>\n",
       "      <td>0</td>\n",
       "      <td>0</td>\n",
       "      <td>1</td>\n",
       "      <td>1</td>\n",
       "      <td>0</td>\n",
       "      <td>1</td>\n",
       "      <td>1</td>\n",
       "      <td>0</td>\n",
       "      <td>0</td>\n",
       "      <td>0</td>\n",
       "      <td>0</td>\n",
       "    </tr>\n",
       "    <tr>\n",
       "      <th>29867352</th>\n",
       "      <td>2</td>\n",
       "      <td>1.0</td>\n",
       "      <td>1.0</td>\n",
       "      <td>0.0</td>\n",
       "      <td>0.0</td>\n",
       "      <td>0.0</td>\n",
       "      <td>1</td>\n",
       "      <td>3.506518</td>\n",
       "      <td>47.658910</td>\n",
       "      <td>5</td>\n",
       "      <td>False</td>\n",
       "      <td>True</td>\n",
       "      <td>False</td>\n",
       "      <td>0</td>\n",
       "      <td>1</td>\n",
       "      <td>0</td>\n",
       "      <td>1</td>\n",
       "      <td>0</td>\n",
       "      <td>0</td>\n",
       "      <td>0</td>\n",
       "      <td>0</td>\n",
       "      <td>0</td>\n",
       "      <td>1</td>\n",
       "      <td>1</td>\n",
       "      <td>0</td>\n",
       "      <td>1</td>\n",
       "      <td>1</td>\n",
       "      <td>0</td>\n",
       "      <td>0</td>\n",
       "      <td>0</td>\n",
       "      <td>0</td>\n",
       "    </tr>\n",
       "  </tbody>\n",
       "</table>\n",
       "<p>22139 rows × 31 columns</p>\n",
       "</div>"
      ],
      "text/plain": [
       "          accommodates  bathrooms  bedrooms  cleaning_fee  security_deposit  \\\n",
       "2015                 3        1.0       1.0          30.0             200.0   \n",
       "2695                 2        1.0       1.0           0.0               0.0   \n",
       "3176                 4        1.0       1.0          50.0             200.0   \n",
       "3309                 2        1.0       1.0          30.0             250.0   \n",
       "7071                 2        1.0       1.0           0.0               0.0   \n",
       "...                ...        ...       ...           ...               ...   \n",
       "29856708             2        1.0       1.0           0.0               0.0   \n",
       "29857108             6        1.0       1.0           0.0               0.0   \n",
       "29864272             2        1.0       0.0           0.0               0.0   \n",
       "29866805             2        1.0       1.0           0.0               0.0   \n",
       "29867352             2        1.0       1.0           0.0               0.0   \n",
       "\n",
       "          extra_people  guests_included  distance_in_km       size  \\\n",
       "2015              28.0                1        3.533182  75.000000   \n",
       "2695               0.0                1        5.085573  25.000000   \n",
       "3176              20.0                2        3.695677  68.000000   \n",
       "3309              18.0                1        3.755285  26.000000   \n",
       "7071              24.0                1        4.550423  20.000000   \n",
       "...                ...              ...             ...        ...   \n",
       "29856708           0.0                1        3.464543  51.868431   \n",
       "29857108          10.0                1        4.288544  54.000412   \n",
       "29864272           0.0                1        3.270333  58.298232   \n",
       "29866805           0.0                1        2.643811  63.179811   \n",
       "29867352           0.0                1        3.506518  47.658910   \n",
       "\n",
       "          minimum_nights     TV  Wifi  Smoking_allowed  \\\n",
       "2015                   4   True  True            False   \n",
       "2695                   2  False  True            False   \n",
       "3176                  62  False  True            False   \n",
       "3309                   5  False  True            False   \n",
       "7071                   2  False  True            False   \n",
       "...                  ...    ...   ...              ...   \n",
       "29856708               2  False  True             True   \n",
       "29857108               1   True  True            False   \n",
       "29864272               3  False  True            False   \n",
       "29866805               1  False  True            False   \n",
       "29867352               5  False  True            False   \n",
       "\n",
       "          host_has_profile_pic_f  host_has_profile_pic_t  \\\n",
       "2015                           0                       1   \n",
       "2695                           0                       1   \n",
       "3176                           0                       1   \n",
       "3309                           0                       1   \n",
       "7071                           0                       1   \n",
       "...                          ...                     ...   \n",
       "29856708                       0                       1   \n",
       "29857108                       0                       1   \n",
       "29864272                       0                       1   \n",
       "29866805                       0                       1   \n",
       "29867352                       0                       1   \n",
       "\n",
       "          room_type_Entire home/apt  room_type_Private room  \\\n",
       "2015                              1                       0   \n",
       "2695                              0                       1   \n",
       "3176                              1                       0   \n",
       "3309                              0                       1   \n",
       "7071                              0                       1   \n",
       "...                             ...                     ...   \n",
       "29856708                          1                       0   \n",
       "29857108                          0                       0   \n",
       "29864272                          1                       0   \n",
       "29866805                          0                       1   \n",
       "29867352                          0                       1   \n",
       "\n",
       "          room_type_Shared room  bed_type_Airbed  bed_type_Couch  \\\n",
       "2015                          0                0               0   \n",
       "2695                          0                0               0   \n",
       "3176                          0                0               0   \n",
       "3309                          0                0               0   \n",
       "7071                          0                0               0   \n",
       "...                         ...              ...             ...   \n",
       "29856708                      0                0               0   \n",
       "29857108                      1                0               0   \n",
       "29864272                      0                0               0   \n",
       "29866805                      0                0               0   \n",
       "29867352                      0                0               0   \n",
       "\n",
       "          bed_type_Futon  bed_type_Pull-out Sofa  bed_type_Real Bed  \\\n",
       "2015                   0                       0                  1   \n",
       "2695                   0                       0                  1   \n",
       "3176                   0                       0                  1   \n",
       "3309                   0                       1                  0   \n",
       "7071                   0                       0                  1   \n",
       "...                  ...                     ...                ...   \n",
       "29856708               0                       0                  1   \n",
       "29857108               0                       0                  1   \n",
       "29864272               0                       0                  1   \n",
       "29866805               0                       0                  1   \n",
       "29867352               0                       0                  1   \n",
       "\n",
       "          instant_bookable_f  instant_bookable_t  is_business_travel_ready_f  \\\n",
       "2015                       1                   0                           1   \n",
       "2695                       1                   0                           1   \n",
       "3176                       0                   1                           1   \n",
       "3309                       1                   0                           1   \n",
       "7071                       1                   0                           1   \n",
       "...                      ...                 ...                         ...   \n",
       "29856708                   1                   0                           1   \n",
       "29857108                   0                   1                           1   \n",
       "29864272                   1                   0                           1   \n",
       "29866805                   1                   0                           1   \n",
       "29867352                   1                   0                           1   \n",
       "\n",
       "          cancellation_policy_flexible  cancellation_policy_moderate  \\\n",
       "2015                                 0                             0   \n",
       "2695                                 1                             0   \n",
       "3176                                 0                             0   \n",
       "3309                                 0                             0   \n",
       "7071                                 0                             1   \n",
       "...                                ...                           ...   \n",
       "29856708                             1                             0   \n",
       "29857108                             1                             0   \n",
       "29864272                             1                             0   \n",
       "29866805                             1                             0   \n",
       "29867352                             1                             0   \n",
       "\n",
       "          cancellation_policy_strict_14_with_grace_period  \\\n",
       "2015                                                    1   \n",
       "2695                                                    0   \n",
       "3176                                                    1   \n",
       "3309                                                    1   \n",
       "7071                                                    0   \n",
       "...                                                   ...   \n",
       "29856708                                                0   \n",
       "29857108                                                0   \n",
       "29864272                                                0   \n",
       "29866805                                                0   \n",
       "29867352                                                0   \n",
       "\n",
       "          cancellation_policy_super_strict_30  \\\n",
       "2015                                        0   \n",
       "2695                                        0   \n",
       "3176                                        0   \n",
       "3309                                        0   \n",
       "7071                                        0   \n",
       "...                                       ...   \n",
       "29856708                                    0   \n",
       "29857108                                    0   \n",
       "29864272                                    0   \n",
       "29866805                                    0   \n",
       "29867352                                    0   \n",
       "\n",
       "          cancellation_policy_super_strict_60  \n",
       "2015                                        0  \n",
       "2695                                        0  \n",
       "3176                                        0  \n",
       "3309                                        0  \n",
       "7071                                        0  \n",
       "...                                       ...  \n",
       "29856708                                    0  \n",
       "29857108                                    0  \n",
       "29864272                                    0  \n",
       "29866805                                    0  \n",
       "29867352                                    0  \n",
       "\n",
       "[22139 rows x 31 columns]"
      ]
     },
     "execution_count": 108,
     "metadata": {},
     "output_type": "execute_result"
    }
   ],
   "source": [
    "pd.set_option('display.max_columns', None)\n",
    "X"
   ]
  },
  {
   "cell_type": "code",
   "execution_count": 109,
   "metadata": {},
   "outputs": [
    {
     "data": {
      "text/html": [
       "<div>\n",
       "<style scoped>\n",
       "    .dataframe tbody tr th:only-of-type {\n",
       "        vertical-align: middle;\n",
       "    }\n",
       "\n",
       "    .dataframe tbody tr th {\n",
       "        vertical-align: top;\n",
       "    }\n",
       "\n",
       "    .dataframe thead th {\n",
       "        text-align: right;\n",
       "    }\n",
       "</style>\n",
       "<table border=\"1\" class=\"dataframe\">\n",
       "  <thead>\n",
       "    <tr style=\"text-align: right;\">\n",
       "      <th></th>\n",
       "      <th>price</th>\n",
       "    </tr>\n",
       "  </thead>\n",
       "  <tbody>\n",
       "    <tr>\n",
       "      <th>2015</th>\n",
       "      <td>60.0</td>\n",
       "    </tr>\n",
       "    <tr>\n",
       "      <th>2695</th>\n",
       "      <td>17.0</td>\n",
       "    </tr>\n",
       "    <tr>\n",
       "      <th>3176</th>\n",
       "      <td>90.0</td>\n",
       "    </tr>\n",
       "    <tr>\n",
       "      <th>3309</th>\n",
       "      <td>26.0</td>\n",
       "    </tr>\n",
       "    <tr>\n",
       "      <th>7071</th>\n",
       "      <td>42.0</td>\n",
       "    </tr>\n",
       "    <tr>\n",
       "      <th>...</th>\n",
       "      <td>...</td>\n",
       "    </tr>\n",
       "    <tr>\n",
       "      <th>29856708</th>\n",
       "      <td>60.0</td>\n",
       "    </tr>\n",
       "    <tr>\n",
       "      <th>29857108</th>\n",
       "      <td>20.0</td>\n",
       "    </tr>\n",
       "    <tr>\n",
       "      <th>29864272</th>\n",
       "      <td>85.0</td>\n",
       "    </tr>\n",
       "    <tr>\n",
       "      <th>29866805</th>\n",
       "      <td>99.0</td>\n",
       "    </tr>\n",
       "    <tr>\n",
       "      <th>29867352</th>\n",
       "      <td>45.0</td>\n",
       "    </tr>\n",
       "  </tbody>\n",
       "</table>\n",
       "<p>22139 rows × 1 columns</p>\n",
       "</div>"
      ],
      "text/plain": [
       "          price\n",
       "2015       60.0\n",
       "2695       17.0\n",
       "3176       90.0\n",
       "3309       26.0\n",
       "7071       42.0\n",
       "...         ...\n",
       "29856708   60.0\n",
       "29857108   20.0\n",
       "29864272   85.0\n",
       "29866805   99.0\n",
       "29867352   45.0\n",
       "\n",
       "[22139 rows x 1 columns]"
      ]
     },
     "execution_count": 109,
     "metadata": {},
     "output_type": "execute_result"
    }
   ],
   "source": [
    "pd.set_option('display.max_columns', None)\n",
    "y"
   ]
  },
  {
   "cell_type": "code",
   "execution_count": 110,
   "metadata": {},
   "outputs": [],
   "source": [
    "# Use numpy to convert to arrays\n",
    "import numpy as np\n",
    "# Labels are the values we want to predict\n",
    "y = np.array(df['price'])\n",
    "# Remove the labels from the features\n",
    "# axis 1 refers to the columns\n",
    "X = df.drop(['price',\n",
    "             'host_has_profile_pic',\n",
    "             'room_type',\n",
    "             'bed_type',\n",
    "             'instant_bookable',\n",
    "             'is_business_travel_ready',\n",
    "             'cancellation_policy',\n",
    "             'TV',\n",
    "             'Wifi',\n",
    "             'Smoking_allowed'], axis = 1)\n",
    "# Saving feature names for later use\n",
    "X_list = list(X.columns)\n",
    "# Convert to numpy array\n",
    "X = np.array(X)"
   ]
  },
  {
   "cell_type": "code",
   "execution_count": 111,
   "metadata": {},
   "outputs": [
    {
     "data": {
      "text/plain": [
       "array([  3.      ,   1.      ,   1.      ,  30.      , 200.      ,\n",
       "        28.      ,   1.      ,   3.533182,  75.      ,   4.      ])"
      ]
     },
     "execution_count": 111,
     "metadata": {},
     "output_type": "execute_result"
    }
   ],
   "source": [
    "pd.set_option('display.max_columns', None)\n",
    "X[0]"
   ]
  },
  {
   "cell_type": "code",
   "execution_count": 112,
   "metadata": {},
   "outputs": [
    {
     "data": {
      "text/plain": [
       "60.0"
      ]
     },
     "execution_count": 112,
     "metadata": {},
     "output_type": "execute_result"
    }
   ],
   "source": [
    "pd.set_option('display.max_columns', None)\n",
    "y[0]"
   ]
  },
  {
   "cell_type": "code",
   "execution_count": 113,
   "metadata": {},
   "outputs": [],
   "source": [
    "# Using Skicit-learn to split data into training and testing sets\n",
    "from sklearn.model_selection import train_test_split\n",
    "# Split the data into training and testing sets\n",
    "X_train, X_test, y_train, y_test = train_test_split(X, y, test_size = 0.20, random_state = SEED)"
   ]
  },
  {
   "cell_type": "code",
   "execution_count": 114,
   "metadata": {},
   "outputs": [
    {
     "name": "stdout",
     "output_type": "stream",
     "text": [
      "Training Features Shape: (17711, 10)\n",
      "Training Labels Shape: (4428, 10)\n",
      "Testing Features Shape: (17711,)\n",
      "Testing Labels Shape: (4428,)\n"
     ]
    }
   ],
   "source": [
    "print('Training Features Shape:', X_train.shape)\n",
    "print('Training Labels Shape:', X_test.shape)\n",
    "print('Testing Features Shape:', y_train.shape)\n",
    "print('Testing Labels Shape:', y_test.shape)\n"
   ]
  },
  {
   "cell_type": "code",
   "execution_count": 115,
   "metadata": {},
   "outputs": [],
   "source": [
    "# Import the model we are using\n",
    "from sklearn.ensemble import RandomForestRegressor\n",
    "# Instantiate model with 1000 decision trees\n",
    "rf = RandomForestRegressor(n_estimators = 1000, random_state = SEED)\n",
    "# Train the model on training data\n",
    "rf.fit(X, y);"
   ]
  },
  {
   "cell_type": "code",
   "execution_count": 116,
   "metadata": {},
   "outputs": [
    {
     "data": {
      "text/plain": [
       "{'bootstrap': True,\n",
       " 'ccp_alpha': 0.0,\n",
       " 'criterion': 'mse',\n",
       " 'max_depth': None,\n",
       " 'max_features': 'auto',\n",
       " 'max_leaf_nodes': None,\n",
       " 'max_samples': None,\n",
       " 'min_impurity_decrease': 0.0,\n",
       " 'min_impurity_split': None,\n",
       " 'min_samples_leaf': 1,\n",
       " 'min_samples_split': 2,\n",
       " 'min_weight_fraction_leaf': 0.0,\n",
       " 'n_estimators': 1000,\n",
       " 'n_jobs': None,\n",
       " 'oob_score': False,\n",
       " 'random_state': 42,\n",
       " 'verbose': 0,\n",
       " 'warm_start': False}"
      ]
     },
     "execution_count": 116,
     "metadata": {},
     "output_type": "execute_result"
    }
   ],
   "source": [
    "rf.get_params()"
   ]
  },
  {
   "cell_type": "code",
   "execution_count": 117,
   "metadata": {},
   "outputs": [],
   "source": [
    "y_pred = rf.predict(X_test)\n",
    "\n",
    "compare_df = pd.DataFrame({\"Desired Output (Actuals)\": y_test, \n",
    "                           \"Predicted Output\": y_pred})"
   ]
  },
  {
   "cell_type": "code",
   "execution_count": 118,
   "metadata": {},
   "outputs": [
    {
     "data": {
      "text/html": [
       "<div>\n",
       "<style scoped>\n",
       "    .dataframe tbody tr th:only-of-type {\n",
       "        vertical-align: middle;\n",
       "    }\n",
       "\n",
       "    .dataframe tbody tr th {\n",
       "        vertical-align: top;\n",
       "    }\n",
       "\n",
       "    .dataframe thead th {\n",
       "        text-align: right;\n",
       "    }\n",
       "</style>\n",
       "<table border=\"1\" class=\"dataframe\">\n",
       "  <thead>\n",
       "    <tr style=\"text-align: right;\">\n",
       "      <th></th>\n",
       "      <th>Desired Output (Actuals)</th>\n",
       "      <th>Predicted Output</th>\n",
       "    </tr>\n",
       "  </thead>\n",
       "  <tbody>\n",
       "    <tr>\n",
       "      <th>0</th>\n",
       "      <td>29.0</td>\n",
       "      <td>38.550</td>\n",
       "    </tr>\n",
       "    <tr>\n",
       "      <th>1</th>\n",
       "      <td>29.0</td>\n",
       "      <td>37.207</td>\n",
       "    </tr>\n",
       "    <tr>\n",
       "      <th>2</th>\n",
       "      <td>45.0</td>\n",
       "      <td>50.765</td>\n",
       "    </tr>\n",
       "    <tr>\n",
       "      <th>3</th>\n",
       "      <td>25.0</td>\n",
       "      <td>25.415</td>\n",
       "    </tr>\n",
       "    <tr>\n",
       "      <th>4</th>\n",
       "      <td>60.0</td>\n",
       "      <td>61.138</td>\n",
       "    </tr>\n",
       "    <tr>\n",
       "      <th>5</th>\n",
       "      <td>49.0</td>\n",
       "      <td>58.823</td>\n",
       "    </tr>\n",
       "    <tr>\n",
       "      <th>6</th>\n",
       "      <td>49.0</td>\n",
       "      <td>48.887</td>\n",
       "    </tr>\n",
       "    <tr>\n",
       "      <th>7</th>\n",
       "      <td>30.0</td>\n",
       "      <td>30.010</td>\n",
       "    </tr>\n",
       "    <tr>\n",
       "      <th>8</th>\n",
       "      <td>29.0</td>\n",
       "      <td>42.750</td>\n",
       "    </tr>\n",
       "    <tr>\n",
       "      <th>9</th>\n",
       "      <td>50.0</td>\n",
       "      <td>50.333</td>\n",
       "    </tr>\n",
       "  </tbody>\n",
       "</table>\n",
       "</div>"
      ],
      "text/plain": [
       "   Desired Output (Actuals)  Predicted Output\n",
       "0                      29.0            38.550\n",
       "1                      29.0            37.207\n",
       "2                      45.0            50.765\n",
       "3                      25.0            25.415\n",
       "4                      60.0            61.138\n",
       "5                      49.0            58.823\n",
       "6                      49.0            48.887\n",
       "7                      30.0            30.010\n",
       "8                      29.0            42.750\n",
       "9                      50.0            50.333"
      ]
     },
     "execution_count": 118,
     "metadata": {},
     "output_type": "execute_result"
    }
   ],
   "source": [
    "compare_df[:10]"
   ]
  },
  {
   "cell_type": "code",
   "execution_count": 119,
   "metadata": {},
   "outputs": [
    {
     "name": "stdout",
     "output_type": "stream",
     "text": [
      "Mean squared error: 106.04\n"
     ]
    }
   ],
   "source": [
    "# The mean squared error\n",
    "print('Mean squared error: {:.2f}'.format(mean_squared_error(y_test, y_pred)))\n"
   ]
  },
  {
   "cell_type": "code",
   "execution_count": 120,
   "metadata": {},
   "outputs": [
    {
     "name": "stdout",
     "output_type": "stream",
     "text": [
      "Mean Absolute Error: 4.92\n"
     ]
    }
   ],
   "source": [
    "# Use the forest's predict method on the test data\n",
    "predictions = rf.predict(X_test)\n",
    "# Calculate the absolute errors\n",
    "errors = abs(predictions - y_test)\n",
    "# Print out the mean absolute error (mae)\n",
    "print('Mean Absolute Error:', round(np.mean(errors), 2))"
   ]
  },
  {
   "cell_type": "code",
   "execution_count": 121,
   "metadata": {},
   "outputs": [
    {
     "name": "stdout",
     "output_type": "stream",
     "text": [
      "Accuracy: 90.94 %.\n"
     ]
    }
   ],
   "source": [
    "# Calculate mean absolute percentage error (MAPE)\n",
    "mape = 100 * (errors / y_test)\n",
    "# Calculate and display accuracy\n",
    "accuracy = 100 - np.mean(mape)\n",
    "print('Accuracy:', round(accuracy, 2), '%.')"
   ]
  },
  {
   "cell_type": "code",
   "execution_count": 122,
   "metadata": {},
   "outputs": [
    {
     "name": "stdout",
     "output_type": "stream",
     "text": [
      "Feature: 0, Score: 0.11010\n",
      "Feature: 1, Score: 0.03137\n",
      "Feature: 2, Score: 0.07317\n",
      "Feature: 3, Score: 0.07050\n",
      "Feature: 4, Score: 0.02756\n",
      "Feature: 5, Score: 0.05583\n",
      "Feature: 6, Score: 0.02783\n",
      "Feature: 7, Score: 0.11243\n",
      "Feature: 8, Score: 0.44544\n",
      "Feature: 9, Score: 0.04577\n"
     ]
    }
   ],
   "source": [
    "# get importance\n",
    "importance = rf.feature_importances_\n",
    "# summarize feature importance\n",
    "for i,v in enumerate(importance):\n",
    "    print('Feature: %0d, Score: %.5f' % (i,v))"
   ]
  },
  {
   "cell_type": "code",
   "execution_count": 123,
   "metadata": {},
   "outputs": [
    {
     "data": {
      "text/plain": [
       "<BarContainer object of 10 artists>"
      ]
     },
     "execution_count": 123,
     "metadata": {},
     "output_type": "execute_result"
    },
    {
     "data": {
      "image/png": "[encoded data removed]",
      "text/plain": [
       "<Figure size 576x396 with 1 Axes>"
      ]
     },
     "metadata": {},
     "output_type": "display_data"
    }
   ],
   "source": [
    "plt.barh(X_list, rf.feature_importances_)"
   ]
  },
  {
   "cell_type": "code",
   "execution_count": 124,
   "metadata": {
    "scrolled": true
   },
   "outputs": [
    {
     "name": "stdout",
     "output_type": "stream",
     "text": [
      "Variable: size                 Importance: 0.45\n",
      "Variable: accommodates         Importance: 0.11\n",
      "Variable: distance_in_km       Importance: 0.11\n",
      "Variable: bedrooms             Importance: 0.07\n",
      "Variable: cleaning_fee         Importance: 0.07\n",
      "Variable: extra_people         Importance: 0.06\n",
      "Variable: minimum_nights       Importance: 0.05\n",
      "Variable: bathrooms            Importance: 0.03\n",
      "Variable: security_deposit     Importance: 0.03\n",
      "Variable: guests_included      Importance: 0.03\n"
     ]
    }
   ],
   "source": [
    "# Get numerical feature importances\n",
    "importances = list(rf.feature_importances_)\n",
    "# List of tuples with variable and importance\n",
    "feature_importances = [(feature, round(importance, 2)) for feature, importance in zip(X_list, importances)]\n",
    "# Sort the feature importances by most important first\n",
    "feature_importances = sorted(feature_importances, key = lambda x: x[1], reverse = True)\n",
    "# Print out the feature and importances \n",
    "[print('Variable: {:20} Importance: {}'.format(*pair)) for pair in feature_importances];"
   ]
  },
  {
   "cell_type": "code",
   "execution_count": 125,
   "metadata": {},
   "outputs": [
    {
     "data": {
      "image/png": "[encoded data removed]",
      "text/plain": [
       "<Figure size 432x288 with 1 Axes>"
      ]
     },
     "metadata": {},
     "output_type": "display_data"
    }
   ],
   "source": [
    "# Import matplotlib for plotting and use magic command for Jupyter Notebooks\n",
    "import matplotlib.pyplot as plt\n",
    "%matplotlib inline\n",
    "# Set the style\n",
    "plt.style.use('fivethirtyeight')\n",
    "# list of x locations for plotting\n",
    "x_values = list(range(len(importances)))\n",
    "# Make a bar chart\n",
    "plt.bar(x_values, importances, orientation = 'vertical')\n",
    "# Tick labels for x axis\n",
    "plt.xticks(x_values, X_list, rotation='vertical')\n",
    "# Axis labels and title\n",
    "plt.ylabel('Importance'); plt.xlabel('Variable'); plt.title('Variable Importances');"
   ]
  },
  {
   "cell_type": "markdown",
   "metadata": {},
   "source": [
    "# Hyperparameter tuning RandomSearch with Cross Validation"
   ]
  },
  {
   "cell_type": "code",
   "execution_count": 126,
   "metadata": {},
   "outputs": [
    {
     "name": "stdout",
     "output_type": "stream",
     "text": [
      "Parameters currently in use:\n",
      "\n",
      "{'bootstrap': True,\n",
      " 'ccp_alpha': 0.0,\n",
      " 'criterion': 'mse',\n",
      " 'max_depth': None,\n",
      " 'max_features': 'auto',\n",
      " 'max_leaf_nodes': None,\n",
      " 'max_samples': None,\n",
      " 'min_impurity_decrease': 0.0,\n",
      " 'min_impurity_split': None,\n",
      " 'min_samples_leaf': 1,\n",
      " 'min_samples_split': 2,\n",
      " 'min_weight_fraction_leaf': 0.0,\n",
      " 'n_estimators': 100,\n",
      " 'n_jobs': None,\n",
      " 'oob_score': False,\n",
      " 'random_state': 42,\n",
      " 'verbose': 0,\n",
      " 'warm_start': False}\n"
     ]
    }
   ],
   "source": [
    "from sklearn.ensemble import RandomForestRegressor\n",
    "rf = RandomForestRegressor(random_state = SEED)\n",
    "from pprint import pprint\n",
    "# Look at parameters used by our current forest\n",
    "rf = rf.fit(X_train, y_train)\n",
    "print('Parameters currently in use:\\n')\n",
    "pprint(rf.get_params())"
   ]
  },
  {
   "cell_type": "code",
   "execution_count": 127,
   "metadata": {},
   "outputs": [
    {
     "name": "stdout",
     "output_type": "stream",
     "text": [
      "0.6289981362441766\n"
     ]
    }
   ],
   "source": [
    "from sklearn.metrics import explained_variance_score\n",
    "predictions = rf.predict(X_test)\n",
    "score = explained_variance_score(y_test, predictions)\n",
    "print(score)"
   ]
  },
  {
   "cell_type": "code",
   "execution_count": 128,
   "metadata": {},
   "outputs": [
    {
     "name": "stdout",
     "output_type": "stream",
     "text": [
      "{'bootstrap': [True, False],\n",
      " 'max_depth': [10, 20, 30, 40, 50, 60, 70, 80, 90, 100, 110, None],\n",
      " 'max_features': ['auto', 'sqrt'],\n",
      " 'min_samples_leaf': [1, 2, 4],\n",
      " 'min_samples_split': [2, 5, 10],\n",
      " 'n_estimators': [200, 400, 600, 800, 1000, 1200, 1400, 1600, 1800, 2000]}\n"
     ]
    }
   ],
   "source": [
    "from sklearn.model_selection import RandomizedSearchCV\n",
    "# Number of trees in random forest\n",
    "n_estimators = [int(x) for x in np.linspace(start = 200, stop = 2000, num = 10)]\n",
    "# Number of features to consider at every split\n",
    "max_features = ['auto', 'sqrt']\n",
    "# Maximum number of levels in tree\n",
    "max_depth = [int(x) for x in np.linspace(10, 110, num = 11)]\n",
    "max_depth.append(None)\n",
    "# Minimum number of samples required to split a node\n",
    "min_samples_split = [2, 5, 10]\n",
    "# Minimum number of samples required at each leaf node\n",
    "min_samples_leaf = [1, 2, 4]\n",
    "# Method of selecting samples for training each tree\n",
    "bootstrap = [True, False]\n",
    "# Create the random grid\n",
    "random_grid = {'n_estimators': n_estimators,\n",
    "               'max_features': max_features,\n",
    "               'max_depth': max_depth,\n",
    "               'min_samples_split': min_samples_split,\n",
    "               'min_samples_leaf': min_samples_leaf,\n",
    "               'bootstrap': bootstrap}\n",
    "pprint(random_grid)"
   ]
  },
  {
   "cell_type": "code",
   "execution_count": 129,
   "metadata": {},
   "outputs": [
    {
     "name": "stdout",
     "output_type": "stream",
     "text": [
      "Fitting 3 folds for each of 100 candidates, totalling 300 fits\n"
     ]
    },
    {
     "data": {
      "text/plain": [
       "RandomizedSearchCV(cv=3, estimator=RandomForestRegressor(), n_iter=100,\n",
       "                   n_jobs=-1,\n",
       "                   param_distributions={'bootstrap': [True, False],\n",
       "                                        'max_depth': [10, 20, 30, 40, 50, 60,\n",
       "                                                      70, 80, 90, 100, 110,\n",
       "                                                      None],\n",
       "                                        'max_features': ['auto', 'sqrt'],\n",
       "                                        'min_samples_leaf': [1, 2, 4],\n",
       "                                        'min_samples_split': [2, 5, 10],\n",
       "                                        'n_estimators': [200, 400, 600, 800,\n",
       "                                                         1000, 1200, 1400, 1600,\n",
       "                                                         1800, 2000]},\n",
       "                   random_state=42, verbose=2)"
      ]
     },
     "execution_count": 129,
     "metadata": {},
     "output_type": "execute_result"
    }
   ],
   "source": [
    "# Use the random grid to search for best hyperparameters\n",
    "# First create the base model to tune\n",
    "rf = RandomForestRegressor()\n",
    "# Random search of parameters, using 3 fold cross validation, \n",
    "# search across 100 different combinations, and use all available cores\n",
    "rf_random = RandomizedSearchCV(estimator = rf, param_distributions = random_grid, n_iter = 100, cv = 3, verbose=2, random_state=SEED, n_jobs = -1)\n",
    "# Fit the random search model\n",
    "rf_random.fit(X_train, y_train)"
   ]
  },
  {
   "cell_type": "code",
   "execution_count": 130,
   "metadata": {},
   "outputs": [
    {
     "data": {
      "text/plain": [
       "{'n_estimators': 800,\n",
       " 'min_samples_split': 2,\n",
       " 'min_samples_leaf': 2,\n",
       " 'max_features': 'sqrt',\n",
       " 'max_depth': 50,\n",
       " 'bootstrap': False}"
      ]
     },
     "execution_count": 130,
     "metadata": {},
     "output_type": "execute_result"
    }
   ],
   "source": [
    "rf_random.best_params_"
   ]
  },
  {
   "cell_type": "code",
   "execution_count": 131,
   "metadata": {},
   "outputs": [
    {
     "data": {
      "text/plain": [
       "0.6241257650995122"
      ]
     },
     "execution_count": 131,
     "metadata": {},
     "output_type": "execute_result"
    }
   ],
   "source": [
    "rf_random.best_score_"
   ]
  },
  {
   "cell_type": "code",
   "execution_count": 132,
   "metadata": {},
   "outputs": [
    {
     "name": "stdout",
     "output_type": "stream",
     "text": [
      "Mean Absolute Error: 13.92\n"
     ]
    }
   ],
   "source": [
    "# Use the forest's predict method on the test data\n",
    "predictions = rf_random.predict(X_test)\n",
    "# Calculate the absolute errors\n",
    "errors = abs(predictions - y_test)\n",
    "# Print out the mean absolute error (mae)\n",
    "print('Mean Absolute Error:', round(np.mean(errors), 2))"
   ]
  },
  {
   "cell_type": "code",
   "execution_count": 133,
   "metadata": {},
   "outputs": [
    {
     "name": "stdout",
     "output_type": "stream",
     "text": [
      "Accuracy: 73.81 %.\n"
     ]
    }
   ],
   "source": [
    "# Calculate mean absolute percentage error (MAPE)\n",
    "mape = 100 * (errors / y_test)\n",
    "# Calculate and display accuracy\n",
    "accuracy = 100 - np.mean(mape)\n",
    "print('Accuracy:', round(accuracy, 2), '%.')"
   ]
  },
  {
   "cell_type": "markdown",
   "metadata": {},
   "source": [
    "# Hyperparameter tuning GridSearch with Cross Validation"
   ]
  },
  {
   "cell_type": "code",
   "execution_count": 134,
   "metadata": {},
   "outputs": [],
   "source": [
    "from sklearn.model_selection import GridSearchCV\n",
    "# Create the parameter grid based on the results of random search \n",
    "param_grid = {\n",
    "    'bootstrap': [True],\n",
    "    'max_depth': [None],\n",
    "    'max_features': ['auto'],\n",
    "    'min_samples_leaf': [0, 1, 2],\n",
    "    'min_samples_split': [0, 1, 2],\n",
    "    'n_estimators': [100, 200, 300, 400]\n",
    "}\n",
    "# Create a based model\n",
    "rf = RandomForestRegressor()\n",
    "# Instantiate the grid search model\n",
    "grid_search = GridSearchCV(estimator = rf, param_grid = param_grid, \n",
    "                          cv = 3, n_jobs = -1, verbose = 2)"
   ]
  },
  {
   "cell_type": "code",
   "execution_count": 135,
   "metadata": {},
   "outputs": [
    {
     "name": "stdout",
     "output_type": "stream",
     "text": [
      "Fitting 3 folds for each of 36 candidates, totalling 108 fits\n"
     ]
    },
    {
     "name": "stderr",
     "output_type": "stream",
     "text": [
      "C:\\Users\\Sevester Retseves\\anaconda3\\lib\\site-packages\\sklearn\\model_selection\\_search.py:918: UserWarning: One or more of the test scores are non-finite: [       nan        nan        nan        nan        nan        nan\n",
      "        nan        nan        nan        nan        nan        nan\n",
      "        nan        nan        nan        nan        nan        nan\n",
      "        nan        nan 0.61860474 0.6208453  0.61977733 0.62042444\n",
      "        nan        nan        nan        nan        nan        nan\n",
      "        nan        nan 0.62158015 0.62276965 0.62186677 0.62155146]\n",
      "  warnings.warn(\n"
     ]
    },
    {
     "data": {
      "text/plain": [
       "{'bootstrap': True,\n",
       " 'max_depth': None,\n",
       " 'max_features': 'auto',\n",
       " 'min_samples_leaf': 2,\n",
       " 'min_samples_split': 2,\n",
       " 'n_estimators': 200}"
      ]
     },
     "execution_count": 135,
     "metadata": {},
     "output_type": "execute_result"
    }
   ],
   "source": [
    "# Fit the grid search to the data\n",
    "grid_search.fit(X_train, y_train)\n",
    "grid_search.best_params_"
   ]
  },
  {
   "cell_type": "code",
   "execution_count": 136,
   "metadata": {},
   "outputs": [
    {
     "data": {
      "text/plain": [
       "0.6227696457949264"
      ]
     },
     "execution_count": 136,
     "metadata": {},
     "output_type": "execute_result"
    }
   ],
   "source": [
    "grid_search.best_score_"
   ]
  },
  {
   "cell_type": "code",
   "execution_count": 137,
   "metadata": {},
   "outputs": [
    {
     "name": "stdout",
     "output_type": "stream",
     "text": [
      "Mean Absolute Error: 13.5\n"
     ]
    }
   ],
   "source": [
    "# Use the forest's predict method on the test data\n",
    "predictions = grid_search.predict(X_test)\n",
    "# Calculate the absolute errors\n",
    "errors = abs(predictions - y_test)\n",
    "# Print out the mean absolute error (mae)\n",
    "print('Mean Absolute Error:', round(np.mean(errors), 2))"
   ]
  },
  {
   "cell_type": "code",
   "execution_count": 138,
   "metadata": {},
   "outputs": [
    {
     "name": "stdout",
     "output_type": "stream",
     "text": [
      "Accuracy: 75.0 %.\n"
     ]
    }
   ],
   "source": [
    "# Calculate mean absolute percentage error (MAPE)\n",
    "mape = 100 * (errors / y_test)\n",
    "# Calculate and display accuracy\n",
    "accuracy = 100 - np.mean(mape)\n",
    "print('Accuracy:', round(accuracy, 2), '%.')"
   ]
  },
  {
   "cell_type": "code",
   "execution_count": 139,
   "metadata": {},
   "outputs": [],
   "source": [
    "R2 = r2_score(y_test, predictions)"
   ]
  },
  {
   "cell_type": "code",
   "execution_count": 140,
   "metadata": {},
   "outputs": [
    {
     "data": {
      "text/plain": [
       "0.6309538437704949"
      ]
     },
     "execution_count": 140,
     "metadata": {},
     "output_type": "execute_result"
    }
   ],
   "source": [
    "R2"
   ]
  },
  {
   "cell_type": "code",
   "execution_count": null,
   "metadata": {},
   "outputs": [],
   "source": []
  }
 ],
 "metadata": {
  "kernelspec": {
   "display_name": "Python 3",
   "language": "python",
   "name": "python3"
  },
  "language_info": {
   "codemirror_mode": {
    "name": "ipython",
    "version": 3
   },
   "file_extension": ".py",
   "mimetype": "text/x-python",
   "name": "python",
   "nbconvert_exporter": "python",
   "pygments_lexer": "ipython3",
   "version": "3.8.5"
  }
 },
 "nbformat": 4,
 "nbformat_minor": 4
}
